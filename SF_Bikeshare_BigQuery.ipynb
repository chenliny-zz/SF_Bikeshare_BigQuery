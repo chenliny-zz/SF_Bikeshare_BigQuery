{
 "cells": [
  {
   "cell_type": "markdown",
   "metadata": {},
   "source": [
    "### <font color='lightgrey'> Authentication - Google Cloud Platform service account key </font> \n",
    "\n",
    "<font color='lightgrey'> Before connecting to the Jupyter server, do the following in terminal window: <br>\n",
    "\n",
    "export GOOGLE_APPLICATION_CREDENTIALS=\"/key/file/path/[FILE_NAME].json\"\n",
    "\n",
    "pip install --upgrade google-cloud-bigquery\n",
    "\n",
    "\n",
    "If you don't have a Google Cloud Platform (GCP) service account key, follow the [quickstart guide](https://cloud.google.com/bigquery/docs/quickstarts/quickstart-client-libraries#client-libraries-install-python) to create one. If you don't have a GCP account, [create one](https://cloud.google.com/free/) and enable billing. </font>"
   ]
  },
  {
   "cell_type": "markdown",
   "metadata": {},
   "source": [
    "# Google BigQuery & BigQuery ML Playground - San Francisco Bikeshare\n",
    "<div class=\"alert alert-block alert-info\">\n",
    "This playground project consists of two parts. In the first part, I had a Q&A session with the historic San Francisco bikeshare data hosted on Google's [BigQuery Public Datasets](https://cloud.google.com/bigquery/public-data/) using BigQuery SQL. In the second part, I followed the [BigQuery ML documentation](https://cloud.google.com/bigquery-ml/docs/bigqueryml-web-ui-start) and explored a machine learning model right in BigQuery using pure SQL. More recent or real-time San Francisco bikeshare data (now rebranded as **Lyft Bay Wheels**) can be found/requested [here](https://www.lyft.com/bikes/bay-wheels/system-data), but since this project's main focus is on BigQuery & BigQuery ML, that dataset was not used.\n",
    "</div>"
   ]
  },
  {
   "cell_type": "markdown",
   "metadata": {},
   "source": [
    "# Appetizers\n",
    "- The map below shows May 2016 bike pick-up events in the City of San Francisco "
   ]
  },
  {
   "cell_type": "code",
   "execution_count": 118,
   "metadata": {},
   "outputs": [
    {
     "data": {
      "text/html": [
       "<iframe width=\"100%\" height=\"720\" frameborder=\"0\" src=\"https://chenliny1117.carto.com/builder/13eab0e3-5699-4895-9050-31337881cee0/embed\" allowfullscreen webkitallowfullscreen mozallowfullscreen oallowfullscreen msallowfullscreen></iframe>\n"
      ],
      "text/plain": [
       "<IPython.core.display.HTML object>"
      ]
     },
     "metadata": {},
     "output_type": "display_data"
    }
   ],
   "source": [
    "%%HTML\n",
    "## embed link"
   ]
  },
  {
   "cell_type": "markdown",
   "metadata": {},
   "source": [
    "#### SQL query behind the visualziation above"
   ]
  },
  {
   "cell_type": "code",
   "execution_count": null,
   "metadata": {},
   "outputs": [],
   "source": [
    "query = \"\"\"\n",
    "        SELECT\n",
    "            t.start_date AS start_date,\n",
    "            t.trip_id AS trip_id,\n",
    "            t.duration_sec AS duration,\n",
    "            t.start_station_name AS origin_station,\n",
    "            t.end_station_name AS destination_station,\n",
    "            t.bike_number AS bike_number,\n",
    "            t.subscriber_type AS subscriber_type,\n",
    "            origin.latitude AS origin_lat,\n",
    "            origin.longitude AS origin_lon,\n",
    "            desti.latitude AS destination_lat,\n",
    "            desti.longitude AS destination_lon\n",
    "        FROM\n",
    "            `bigquery-public-data.san_francisco_bikeshare.bikeshare_trips` t\n",
    "            LEFT JOIN `bigquery-public-data.san_francisco_bikeshare.bikeshare_stations` origin\n",
    "            ON t.start_station_id = origin.station_id\n",
    "            LEFT JOIN `bigquery-public-data.san_francisco_bikeshare.bikeshare_stations` desti\n",
    "            ON t.end_station_id = desti.station_id\n",
    "        WHERE\n",
    "            EXTRACT(MONTH FROM start_date) = 5 \n",
    "            AND EXTRACT(YEAR FROM start_date) = 2016\n",
    "        \"\"\""
   ]
  },
  {
   "cell_type": "markdown",
   "metadata": {},
   "source": [
    "## Okay Let's start by importing some packages"
   ]
  },
  {
   "cell_type": "code",
   "execution_count": 2,
   "metadata": {},
   "outputs": [],
   "source": [
    "from google.cloud import bigquery\n",
    "%load_ext google.cloud.bigquery\n",
    "client = bigquery.Client()\n",
    "\n",
    "import pandas as pd\n",
    "import matplotlib.pyplot as plt\n",
    "import matplotlib.ticker as mtick\n",
    "import seaborn as sns\n",
    "from pandas.api.types import CategoricalDtype\n",
    "import plotly.graph_objects as go\n",
    "import plotly.io as pio\n",
    "from plotly.subplots import make_subplots\n",
    "\n",
    "plt.style.use('ggplot')\n",
    "plt.rcParams['axes.facecolor'] = '#F5F5F5'\n",
    "%matplotlib inline"
   ]
  },
  {
   "cell_type": "markdown",
   "metadata": {},
   "source": [
    "### Logistics & cost control"
   ]
  },
  {
   "cell_type": "markdown",
   "metadata": {},
   "source": [
    "For on-demand quries, the **first 1TB** each month is free of charge. After the 1TB treshold, it's **5 dollars/TB**. Depending on the size of the dataset you work with, it may be be helpful to set up [custom cost controls](https://cloud.google.com/bigquery/docs/custom-quotas). Alternatively, you can use the [following](https://googleapis.github.io/google-cloud-python/latest/bigquery/generated/google.cloud.bigquery.job.QueryJobConfig.html) to prevent your quries from unintentionally scanning too much data (with maximum bytes allowed set to 1,000,000,000 as an example) :\n",
    "\n",
    "```\n",
    "safe_config = google.cloud.bigquery.QueryJobConfig(maximum_bytes_billed=1e9)\n",
    "your_sql_query = \"SELECT ...\"\n",
    "query_job = client.query(your_sql_query, job_config=safe_config)\n",
    "``` "
   ]
  },
  {
   "cell_type": "markdown",
   "metadata": {},
   "source": [
    "### The preliminaries"
   ]
  },
  {
   "cell_type": "markdown",
   "metadata": {},
   "source": [
    "#### What tables does the San Francisco Bikeshare dataset have?\n",
    "- The Client object holds projects and a connection to the BigQuery service\n",
    "- `bigquery-public-data` is a project, which contains a collection of datasets\n",
    "- `san_francisco_bikeshare` is a dataset, which contains a collection of tables\n",
    "- `bikeshare_regions`, `bikesahre_station_info`, `bikeshare_station_status`, and `bikeshare_trips` are the tables under the `san_francisco_bikeshare dataset`\n",
    "- Thus, project --> datasets --> tables"
   ]
  },
  {
   "cell_type": "code",
   "execution_count": 3,
   "metadata": {},
   "outputs": [
    {
     "name": "stdout",
     "output_type": "stream",
     "text": [
      "bikeshare_regions\n",
      "bikeshare_station_info\n",
      "bikeshare_station_status\n",
      "bikeshare_trips\n"
     ]
    }
   ],
   "source": [
    "data_ref = client.dataset(\"san_francisco_bikeshare\", project=\"bigquery-public-data\")\n",
    "data = client.get_dataset(data_ref)\n",
    "\n",
    "tables = list(client.list_tables(data))\n",
    "for table in tables:\n",
    "    print(table.table_id)"
   ]
  },
  {
   "cell_type": "markdown",
   "metadata": {},
   "source": [
    "#### Check schema for the bikeshare_trips table"
   ]
  },
  {
   "cell_type": "code",
   "execution_count": 4,
   "metadata": {},
   "outputs": [
    {
     "data": {
      "text/plain": [
       "[SchemaField('trip_id', 'INTEGER', 'REQUIRED', 'Numeric ID of bike trip', ()),\n",
       " SchemaField('duration_sec', 'INTEGER', 'NULLABLE', 'Time of trip in seconds', ()),\n",
       " SchemaField('start_date', 'TIMESTAMP', 'NULLABLE', 'Start date of trip with date and time, in PST', ()),\n",
       " SchemaField('start_station_name', 'STRING', 'NULLABLE', 'Station name of start station', ()),\n",
       " SchemaField('start_station_id', 'INTEGER', 'NULLABLE', 'Numeric reference for start station', ()),\n",
       " SchemaField('end_date', 'TIMESTAMP', 'NULLABLE', 'End date of trip with date and time, in PST', ()),\n",
       " SchemaField('end_station_name', 'STRING', 'NULLABLE', 'Station name for end station', ()),\n",
       " SchemaField('end_station_id', 'INTEGER', 'NULLABLE', 'Numeric reference for end station', ()),\n",
       " SchemaField('bike_number', 'INTEGER', 'NULLABLE', 'ID of bike used', ()),\n",
       " SchemaField('zip_code', 'STRING', 'NULLABLE', 'Home zip code of subscriber (customers can choose to manually enter zip at kiosk however data is unreliable)', ()),\n",
       " SchemaField('subscriber_type', 'STRING', 'NULLABLE', 'Subscriber = annual or 30-day member; Customer = 24-hour or 3-day member', ()),\n",
       " SchemaField('c_subscription_type', 'STRING', 'NULLABLE', '', ()),\n",
       " SchemaField('start_station_latitude', 'FLOAT', 'NULLABLE', '', ()),\n",
       " SchemaField('start_station_longitude', 'FLOAT', 'NULLABLE', '', ()),\n",
       " SchemaField('end_station_latitude', 'FLOAT', 'NULLABLE', '', ()),\n",
       " SchemaField('end_station_longitude', 'FLOAT', 'NULLABLE', '', ()),\n",
       " SchemaField('member_birth_year', 'INTEGER', 'NULLABLE', '', ()),\n",
       " SchemaField('member_gender', 'STRING', 'NULLABLE', '', ()),\n",
       " SchemaField('bike_share_for_all_trip', 'STRING', 'NULLABLE', '', ()),\n",
       " SchemaField('start_station_geom', 'GEOGRAPHY', 'NULLABLE', '', ()),\n",
       " SchemaField('end_station_geom', 'GEOGRAPHY', 'NULLABLE', '', ())]"
      ]
     },
     "execution_count": 4,
     "metadata": {},
     "output_type": "execute_result"
    }
   ],
   "source": [
    "client.get_table(data_ref.table(\"bikeshare_trips\")).schema"
   ]
  },
  {
   "cell_type": "markdown",
   "metadata": {},
   "source": [
    "#### Sneak peak of the bikeshare_trips table"
   ]
  },
  {
   "cell_type": "code",
   "execution_count": 5,
   "metadata": {},
   "outputs": [
    {
     "data": {
      "text/html": [
       "<div>\n",
       "<style scoped>\n",
       "    .dataframe tbody tr th:only-of-type {\n",
       "        vertical-align: middle;\n",
       "    }\n",
       "\n",
       "    .dataframe tbody tr th {\n",
       "        vertical-align: top;\n",
       "    }\n",
       "\n",
       "    .dataframe thead th {\n",
       "        text-align: right;\n",
       "    }\n",
       "</style>\n",
       "<table border=\"1\" class=\"dataframe\">\n",
       "  <thead>\n",
       "    <tr style=\"text-align: right;\">\n",
       "      <th></th>\n",
       "      <th>trip_id</th>\n",
       "      <th>duration_sec</th>\n",
       "      <th>start_date</th>\n",
       "      <th>start_station_name</th>\n",
       "      <th>start_station_id</th>\n",
       "      <th>end_date</th>\n",
       "      <th>end_station_name</th>\n",
       "      <th>end_station_id</th>\n",
       "      <th>bike_number</th>\n",
       "      <th>zip_code</th>\n",
       "      <th>...</th>\n",
       "      <th>c_subscription_type</th>\n",
       "      <th>start_station_latitude</th>\n",
       "      <th>start_station_longitude</th>\n",
       "      <th>end_station_latitude</th>\n",
       "      <th>end_station_longitude</th>\n",
       "      <th>member_birth_year</th>\n",
       "      <th>member_gender</th>\n",
       "      <th>bike_share_for_all_trip</th>\n",
       "      <th>start_station_geom</th>\n",
       "      <th>end_station_geom</th>\n",
       "    </tr>\n",
       "  </thead>\n",
       "  <tbody>\n",
       "    <tr>\n",
       "      <th>0</th>\n",
       "      <td>16520150901112400</td>\n",
       "      <td>727</td>\n",
       "      <td>2015-09-01 11:24:00+00:00</td>\n",
       "      <td>Santa Clara at Almaden</td>\n",
       "      <td>4</td>\n",
       "      <td>2015-09-01 11:36:00+00:00</td>\n",
       "      <td>Arena Green / SAP Center</td>\n",
       "      <td>14</td>\n",
       "      <td>165</td>\n",
       "      <td>95113</td>\n",
       "      <td>...</td>\n",
       "      <td>None</td>\n",
       "      <td>None</td>\n",
       "      <td>None</td>\n",
       "      <td>None</td>\n",
       "      <td>None</td>\n",
       "      <td>None</td>\n",
       "      <td>None</td>\n",
       "      <td>None</td>\n",
       "      <td>None</td>\n",
       "      <td>None</td>\n",
       "    </tr>\n",
       "    <tr>\n",
       "      <th>1</th>\n",
       "      <td>1220150901122000</td>\n",
       "      <td>344</td>\n",
       "      <td>2015-09-01 12:20:00+00:00</td>\n",
       "      <td>San Antonio Caltrain Station</td>\n",
       "      <td>29</td>\n",
       "      <td>2015-09-01 12:25:00+00:00</td>\n",
       "      <td>San Antonio Shopping Center</td>\n",
       "      <td>31</td>\n",
       "      <td>12</td>\n",
       "      <td>94610</td>\n",
       "      <td>...</td>\n",
       "      <td>None</td>\n",
       "      <td>None</td>\n",
       "      <td>None</td>\n",
       "      <td>None</td>\n",
       "      <td>None</td>\n",
       "      <td>None</td>\n",
       "      <td>None</td>\n",
       "      <td>None</td>\n",
       "      <td>None</td>\n",
       "      <td>None</td>\n",
       "    </tr>\n",
       "    <tr>\n",
       "      <th>2</th>\n",
       "      <td>20820150902113000</td>\n",
       "      <td>210</td>\n",
       "      <td>2015-09-02 11:30:00+00:00</td>\n",
       "      <td>San Jose City Hall</td>\n",
       "      <td>10</td>\n",
       "      <td>2015-09-02 11:34:00+00:00</td>\n",
       "      <td>St James Park</td>\n",
       "      <td>13</td>\n",
       "      <td>208</td>\n",
       "      <td>95113</td>\n",
       "      <td>...</td>\n",
       "      <td>None</td>\n",
       "      <td>None</td>\n",
       "      <td>None</td>\n",
       "      <td>None</td>\n",
       "      <td>None</td>\n",
       "      <td>None</td>\n",
       "      <td>None</td>\n",
       "      <td>None</td>\n",
       "      <td>None</td>\n",
       "      <td>None</td>\n",
       "    </tr>\n",
       "    <tr>\n",
       "      <th>3</th>\n",
       "      <td>19620150902171300</td>\n",
       "      <td>639</td>\n",
       "      <td>2015-09-02 17:13:00+00:00</td>\n",
       "      <td>Stanford in Redwood City</td>\n",
       "      <td>25</td>\n",
       "      <td>2015-09-02 17:23:00+00:00</td>\n",
       "      <td>Redwood City Caltrain Station</td>\n",
       "      <td>22</td>\n",
       "      <td>196</td>\n",
       "      <td>95131</td>\n",
       "      <td>...</td>\n",
       "      <td>None</td>\n",
       "      <td>None</td>\n",
       "      <td>None</td>\n",
       "      <td>None</td>\n",
       "      <td>None</td>\n",
       "      <td>None</td>\n",
       "      <td>None</td>\n",
       "      <td>None</td>\n",
       "      <td>None</td>\n",
       "      <td>None</td>\n",
       "    </tr>\n",
       "    <tr>\n",
       "      <th>4</th>\n",
       "      <td>64820150902180900</td>\n",
       "      <td>343</td>\n",
       "      <td>2015-09-02 18:09:00+00:00</td>\n",
       "      <td>Paseo de San Antonio</td>\n",
       "      <td>7</td>\n",
       "      <td>2015-09-02 18:14:00+00:00</td>\n",
       "      <td>SJSU - San Salvador at 9th</td>\n",
       "      <td>16</td>\n",
       "      <td>648</td>\n",
       "      <td>95112</td>\n",
       "      <td>...</td>\n",
       "      <td>None</td>\n",
       "      <td>None</td>\n",
       "      <td>None</td>\n",
       "      <td>None</td>\n",
       "      <td>None</td>\n",
       "      <td>None</td>\n",
       "      <td>None</td>\n",
       "      <td>None</td>\n",
       "      <td>None</td>\n",
       "      <td>None</td>\n",
       "    </tr>\n",
       "  </tbody>\n",
       "</table>\n",
       "<p>5 rows × 21 columns</p>\n",
       "</div>"
      ],
      "text/plain": [
       "             trip_id  duration_sec                start_date  \\\n",
       "0  16520150901112400           727 2015-09-01 11:24:00+00:00   \n",
       "1   1220150901122000           344 2015-09-01 12:20:00+00:00   \n",
       "2  20820150902113000           210 2015-09-02 11:30:00+00:00   \n",
       "3  19620150902171300           639 2015-09-02 17:13:00+00:00   \n",
       "4  64820150902180900           343 2015-09-02 18:09:00+00:00   \n",
       "\n",
       "             start_station_name  start_station_id                  end_date  \\\n",
       "0        Santa Clara at Almaden                 4 2015-09-01 11:36:00+00:00   \n",
       "1  San Antonio Caltrain Station                29 2015-09-01 12:25:00+00:00   \n",
       "2            San Jose City Hall                10 2015-09-02 11:34:00+00:00   \n",
       "3      Stanford in Redwood City                25 2015-09-02 17:23:00+00:00   \n",
       "4          Paseo de San Antonio                 7 2015-09-02 18:14:00+00:00   \n",
       "\n",
       "                end_station_name  end_station_id  bike_number zip_code  \\\n",
       "0       Arena Green / SAP Center              14          165    95113   \n",
       "1    San Antonio Shopping Center              31           12    94610   \n",
       "2                  St James Park              13          208    95113   \n",
       "3  Redwood City Caltrain Station              22          196    95131   \n",
       "4     SJSU - San Salvador at 9th              16          648    95112   \n",
       "\n",
       "        ...        c_subscription_type start_station_latitude  \\\n",
       "0       ...                       None                   None   \n",
       "1       ...                       None                   None   \n",
       "2       ...                       None                   None   \n",
       "3       ...                       None                   None   \n",
       "4       ...                       None                   None   \n",
       "\n",
       "  start_station_longitude end_station_latitude end_station_longitude  \\\n",
       "0                    None                 None                  None   \n",
       "1                    None                 None                  None   \n",
       "2                    None                 None                  None   \n",
       "3                    None                 None                  None   \n",
       "4                    None                 None                  None   \n",
       "\n",
       "  member_birth_year member_gender bike_share_for_all_trip start_station_geom  \\\n",
       "0              None          None                    None               None   \n",
       "1              None          None                    None               None   \n",
       "2              None          None                    None               None   \n",
       "3              None          None                    None               None   \n",
       "4              None          None                    None               None   \n",
       "\n",
       "  end_station_geom  \n",
       "0             None  \n",
       "1             None  \n",
       "2             None  \n",
       "3             None  \n",
       "4             None  \n",
       "\n",
       "[5 rows x 21 columns]"
      ]
     },
     "execution_count": 5,
     "metadata": {},
     "output_type": "execute_result"
    }
   ],
   "source": [
    "table_ref = data_ref.table(\"bikeshare_trips\")\n",
    "table = client.get_table(table_ref)\n",
    "client.list_rows(table, max_results=5).to_dataframe()"
   ]
  },
  {
   "cell_type": "markdown",
   "metadata": {},
   "source": [
    "## Part 1- BigQuery SQL "
   ]
  },
  {
   "cell_type": "markdown",
   "metadata": {},
   "source": [
    "#### What's the time frame of the bikeshare_trips table?\n",
    "- Prepare a table showing the earliest/latest timestamps \n",
    "- Note that data from 9/1/2016 to 6/27/2017 is not available from `bigquery-public-data.san_francisco_bikeshare.bikeshare_trips` \n",
    "- Ford GoBike launched on 6/28/2017. "
   ]
  },
  {
   "cell_type": "code",
   "execution_count": 6,
   "metadata": {},
   "outputs": [
    {
     "data": {
      "text/html": [
       "<div>\n",
       "<style scoped>\n",
       "    .dataframe tbody tr th:only-of-type {\n",
       "        vertical-align: middle;\n",
       "    }\n",
       "\n",
       "    .dataframe tbody tr th {\n",
       "        vertical-align: top;\n",
       "    }\n",
       "\n",
       "    .dataframe thead th {\n",
       "        text-align: right;\n",
       "    }\n",
       "</style>\n",
       "<table border=\"1\" class=\"dataframe\">\n",
       "  <thead>\n",
       "    <tr style=\"text-align: right;\">\n",
       "      <th></th>\n",
       "      <th>earliest_date</th>\n",
       "      <th>latest_date</th>\n",
       "      <th>total_num_days</th>\n",
       "    </tr>\n",
       "  </thead>\n",
       "  <tbody>\n",
       "    <tr>\n",
       "      <th>0</th>\n",
       "      <td>2013-08-29 09:08:00+00:00</td>\n",
       "      <td>2018-04-30 23:58:45+00:00</td>\n",
       "      <td>1705</td>\n",
       "    </tr>\n",
       "  </tbody>\n",
       "</table>\n",
       "</div>"
      ],
      "text/plain": [
       "              earliest_date               latest_date  total_num_days\n",
       "0 2013-08-29 09:08:00+00:00 2018-04-30 23:58:45+00:00            1705"
      ]
     },
     "execution_count": 6,
     "metadata": {},
     "output_type": "execute_result"
    }
   ],
   "source": [
    "time_frame_query = \"\"\"\n",
    "        WITH time_frame AS\n",
    "        (\n",
    "            SELECT\n",
    "                MIN(start_date) AS earliest_date,\n",
    "                MAX(start_date) AS latest_date\n",
    "            FROM\n",
    "                `bigquery-public-data.san_francisco_bikeshare.bikeshare_trips`\n",
    "        )\n",
    "        SELECT\n",
    "            earliest_date,\n",
    "            latest_date,\n",
    "            TIMESTAMP_DIFF(latest_date, earliest_date, DAY) AS total_num_days\n",
    "        FROM\n",
    "            time_frame\n",
    "        \"\"\"\n",
    "time_frame = client.query(time_frame_query).result().to_dataframe()\n",
    "time_frame"
   ]
  },
  {
   "cell_type": "markdown",
   "metadata": {},
   "source": [
    "#### How many trips were there and by whom?\n",
    "Prepare a table showing number of trips broken down by subscriber type."
   ]
  },
  {
   "cell_type": "code",
   "execution_count": 7,
   "metadata": {},
   "outputs": [
    {
     "data": {
      "text/html": [
       "<div>\n",
       "<style scoped>\n",
       "    .dataframe tbody tr th:only-of-type {\n",
       "        vertical-align: middle;\n",
       "    }\n",
       "\n",
       "    .dataframe tbody tr th {\n",
       "        vertical-align: top;\n",
       "    }\n",
       "\n",
       "    .dataframe thead th {\n",
       "        text-align: right;\n",
       "    }\n",
       "</style>\n",
       "<table border=\"1\" class=\"dataframe\">\n",
       "  <thead>\n",
       "    <tr style=\"text-align: right;\">\n",
       "      <th></th>\n",
       "      <th>Subscriber_Trips</th>\n",
       "      <th>Customer_Trips</th>\n",
       "      <th>Total_Trips</th>\n",
       "    </tr>\n",
       "  </thead>\n",
       "  <tbody>\n",
       "    <tr>\n",
       "      <th>0</th>\n",
       "      <td>1635448</td>\n",
       "      <td>311971</td>\n",
       "      <td>1947419</td>\n",
       "    </tr>\n",
       "  </tbody>\n",
       "</table>\n",
       "</div>"
      ],
      "text/plain": [
       "   Subscriber_Trips  Customer_Trips  Total_Trips\n",
       "0           1635448          311971      1947419"
      ]
     },
     "execution_count": 7,
     "metadata": {},
     "output_type": "execute_result"
    }
   ],
   "source": [
    "trips_query = \"\"\"\n",
    "        SELECT \n",
    "            COUNT(Subscriber_trip) Subscriber_Trips, \n",
    "            COUNT(Customer_trip) Customer_Trips, \n",
    "            COUNT(*) Total_Trips\n",
    "        FROM \n",
    "            (SELECT \n",
    "                CASE WHEN subscriber_type = 'Subscriber' THEN 1 END Subscriber_trip, \n",
    "                CASE WHEN subscriber_type = 'Customer' THEN 1 END Customer_trip \n",
    "            FROM \n",
    "                `bigquery-public-data.san_francisco_bikeshare.bikeshare_trips`)\n",
    "        \"\"\"\n",
    "\n",
    "trips = client.query(trips_query).to_dataframe()\n",
    "trips"
   ]
  },
  {
   "cell_type": "markdown",
   "metadata": {},
   "source": [
    "#### The same query as above, but using magic commands"
   ]
  },
  {
   "cell_type": "code",
   "execution_count": 8,
   "metadata": {},
   "outputs": [
    {
     "data": {
      "text/html": [
       "<div>\n",
       "<style scoped>\n",
       "    .dataframe tbody tr th:only-of-type {\n",
       "        vertical-align: middle;\n",
       "    }\n",
       "\n",
       "    .dataframe tbody tr th {\n",
       "        vertical-align: top;\n",
       "    }\n",
       "\n",
       "    .dataframe thead th {\n",
       "        text-align: right;\n",
       "    }\n",
       "</style>\n",
       "<table border=\"1\" class=\"dataframe\">\n",
       "  <thead>\n",
       "    <tr style=\"text-align: right;\">\n",
       "      <th></th>\n",
       "      <th>Subscriber_Trips</th>\n",
       "      <th>Customer_Trips</th>\n",
       "      <th>Total_Trips</th>\n",
       "    </tr>\n",
       "  </thead>\n",
       "  <tbody>\n",
       "    <tr>\n",
       "      <th>0</th>\n",
       "      <td>1635448</td>\n",
       "      <td>311971</td>\n",
       "      <td>1947419</td>\n",
       "    </tr>\n",
       "  </tbody>\n",
       "</table>\n",
       "</div>"
      ],
      "text/plain": [
       "   Subscriber_Trips  Customer_Trips  Total_Trips\n",
       "0           1635448          311971      1947419"
      ]
     },
     "execution_count": 8,
     "metadata": {},
     "output_type": "execute_result"
    }
   ],
   "source": [
    "%%bigquery\n",
    "SELECT \n",
    "    COUNT(Subscriber_trip) Subscriber_Trips, \n",
    "    COUNT(Customer_trip) Customer_Trips, \n",
    "    COUNT(*) Total_Trips\n",
    "FROM \n",
    "    (SELECT \n",
    "        CASE WHEN subscriber_type = 'Subscriber' THEN 1 END Subscriber_trip, \n",
    "        CASE WHEN subscriber_type = 'Customer' THEN 1 END Customer_trip \n",
    "FROM \n",
    "    `bigquery-public-data.san_francisco_bikeshare.bikeshare_trips`)"
   ]
  },
  {
   "cell_type": "markdown",
   "metadata": {},
   "source": [
    "#### Let's break down trips by month and subscriber type\n",
    "Prepare a table showing monthly trips by subscriber type\n",
    "- Data from 4/1/2014 to 3/31/2016 is queried to avoid the missing period from 9/1/2016 to 6/27/2017 but still keep a full year"
   ]
  },
  {
   "cell_type": "code",
   "execution_count": 9,
   "metadata": {},
   "outputs": [
    {
     "data": {
      "text/html": [
       "<div>\n",
       "<style scoped>\n",
       "    .dataframe tbody tr th:only-of-type {\n",
       "        vertical-align: middle;\n",
       "    }\n",
       "\n",
       "    .dataframe tbody tr th {\n",
       "        vertical-align: top;\n",
       "    }\n",
       "\n",
       "    .dataframe thead th {\n",
       "        text-align: right;\n",
       "    }\n",
       "</style>\n",
       "<table border=\"1\" class=\"dataframe\">\n",
       "  <thead>\n",
       "    <tr style=\"text-align: right;\">\n",
       "      <th></th>\n",
       "      <th>month</th>\n",
       "      <th>subscriber_trips</th>\n",
       "      <th>customer_trips</th>\n",
       "      <th>total_trips</th>\n",
       "    </tr>\n",
       "  </thead>\n",
       "  <tbody>\n",
       "    <tr>\n",
       "      <th>0</th>\n",
       "      <td>October</td>\n",
       "      <td>57361</td>\n",
       "      <td>7912</td>\n",
       "      <td>65273</td>\n",
       "    </tr>\n",
       "    <tr>\n",
       "      <th>1</th>\n",
       "      <td>July</td>\n",
       "      <td>53779</td>\n",
       "      <td>9976</td>\n",
       "      <td>63755</td>\n",
       "    </tr>\n",
       "    <tr>\n",
       "      <th>2</th>\n",
       "      <td>August</td>\n",
       "      <td>52814</td>\n",
       "      <td>10305</td>\n",
       "      <td>63119</td>\n",
       "    </tr>\n",
       "    <tr>\n",
       "      <th>3</th>\n",
       "      <td>September</td>\n",
       "      <td>54244</td>\n",
       "      <td>7834</td>\n",
       "      <td>62078</td>\n",
       "    </tr>\n",
       "    <tr>\n",
       "      <th>4</th>\n",
       "      <td>June</td>\n",
       "      <td>53018</td>\n",
       "      <td>8871</td>\n",
       "      <td>61889</td>\n",
       "    </tr>\n",
       "    <tr>\n",
       "      <th>5</th>\n",
       "      <td>May</td>\n",
       "      <td>48922</td>\n",
       "      <td>9120</td>\n",
       "      <td>58042</td>\n",
       "    </tr>\n",
       "    <tr>\n",
       "      <th>6</th>\n",
       "      <td>April</td>\n",
       "      <td>50176</td>\n",
       "      <td>7408</td>\n",
       "      <td>57584</td>\n",
       "    </tr>\n",
       "    <tr>\n",
       "      <th>7</th>\n",
       "      <td>March</td>\n",
       "      <td>51035</td>\n",
       "      <td>6149</td>\n",
       "      <td>57184</td>\n",
       "    </tr>\n",
       "    <tr>\n",
       "      <th>8</th>\n",
       "      <td>February</td>\n",
       "      <td>45558</td>\n",
       "      <td>5403</td>\n",
       "      <td>50961</td>\n",
       "    </tr>\n",
       "    <tr>\n",
       "      <th>9</th>\n",
       "      <td>November</td>\n",
       "      <td>43990</td>\n",
       "      <td>4882</td>\n",
       "      <td>48872</td>\n",
       "    </tr>\n",
       "    <tr>\n",
       "      <th>10</th>\n",
       "      <td>January</td>\n",
       "      <td>43057</td>\n",
       "      <td>4303</td>\n",
       "      <td>47360</td>\n",
       "    </tr>\n",
       "    <tr>\n",
       "      <th>11</th>\n",
       "      <td>December</td>\n",
       "      <td>34506</td>\n",
       "      <td>3561</td>\n",
       "      <td>38067</td>\n",
       "    </tr>\n",
       "  </tbody>\n",
       "</table>\n",
       "</div>"
      ],
      "text/plain": [
       "        month  subscriber_trips  customer_trips  total_trips\n",
       "0     October             57361            7912        65273\n",
       "1        July             53779            9976        63755\n",
       "2      August             52814           10305        63119\n",
       "3   September             54244            7834        62078\n",
       "4        June             53018            8871        61889\n",
       "5         May             48922            9120        58042\n",
       "6       April             50176            7408        57584\n",
       "7       March             51035            6149        57184\n",
       "8    February             45558            5403        50961\n",
       "9    November             43990            4882        48872\n",
       "10    January             43057            4303        47360\n",
       "11   December             34506            3561        38067"
      ]
     },
     "execution_count": 9,
     "metadata": {},
     "output_type": "execute_result"
    }
   ],
   "source": [
    "trips_by_month_query = \"\"\"\n",
    "                 SELECT\n",
    "                     FORMAT_DATE('%B', DATE(start_date)) AS month,\n",
    "                     COUNT(Subscriber_trip) AS subscriber_trips, \n",
    "                     COUNT(Customer_trip) AS customer_trips, \n",
    "                     COUNT(*) AS total_trips\n",
    "                 FROM\n",
    "                     (SELECT\n",
    "                        start_date,\n",
    "                        CASE WHEN subscriber_type = 'Subscriber' THEN 1 END Subscriber_trip, \n",
    "                        CASE WHEN subscriber_type = 'Customer' THEN 1 END Customer_trip \n",
    "                      FROM \n",
    "                        `bigquery-public-data.san_francisco_bikeshare.bikeshare_trips`\n",
    "                      WHERE\n",
    "                        start_date >= '2014-04-01' AND start_date < '2016-04-01')\n",
    "                 GROUP BY\n",
    "                     1\n",
    "                 ORDER BY\n",
    "                     4 DESC\n",
    "                 \"\"\"\n",
    "\n",
    "trips_by_month = client.query(trips_by_month_query).to_dataframe()\n",
    "trips_by_month"
   ]
  },
  {
   "cell_type": "markdown",
   "metadata": {},
   "source": [
    "Plot it"
   ]
  },
  {
   "cell_type": "code",
   "execution_count": 10,
   "metadata": {},
   "outputs": [
    {
     "data": {
      "image/png": "[encoded data removed]",
      "text/plain": [
       "<matplotlib.figure.Figure at 0x1a1b0a9400>"
      ]
     },
     "metadata": {},
     "output_type": "display_data"
    }
   ],
   "source": [
    "months = [\"January\", \"February\", \"March\", \"April\", \"May\", \"June\", \n",
    "          \"July\", \"August\", \"September\", \"October\", \"November\", \"December\"]\n",
    "\n",
    "trips_by_month['month'] = pd.Categorical(trips_by_month['month'], categories=months, ordered=True)\n",
    "trips_by_month.sort_values('month', inplace=True)\n",
    "\n",
    "ax = trips_by_month.set_index('month')[['subscriber_trips', 'customer_trips']].plot(\n",
    "    kind='bar', \n",
    "    rot=0, \n",
    "    figsize=(14,6), \n",
    "    color=['navy', 'orangered']\n",
    ")\n",
    "\n",
    "ax.set_title('Monthly Trips by User Type (4/1/2014 - 4/30/3016)', fontsize=14)\n",
    "ax.set_ylabel('Number of Trips')\n",
    "ax.set_xlabel(' ')\n",
    "\n",
    "fmt = '{x:,.0f}'\n",
    "ax.yaxis.set_major_formatter(mtick.StrMethodFormatter(fmt))\n",
    "\n",
    "for tick in ax.yaxis.get_major_ticks():\n",
    "    tick.label.set_fontsize(12)\n",
    "for tick in ax.xaxis.get_major_ticks():\n",
    "    tick.label.set_fontsize(12)\n",
    "\n",
    "ax.axhline(trips_by_month['subscriber_trips'].mean(), color='red', linestyle='dashed',linewidth=1)\n",
    "ax.text(9.2, 47000,'Average Trips by Subscriber', fontsize=10)\n",
    "\n",
    "pass"
   ]
  },
  {
   "cell_type": "markdown",
   "metadata": {},
   "source": [
    "#### How about after Ford GoBike's launch?\n",
    "Prepare a table showing monthly trips by subscriber type after Ford GoBike's launch on 6/28/2017.\n",
    "- Data on or after 7/01/2017 is queried "
   ]
  },
  {
   "cell_type": "code",
   "execution_count": 11,
   "metadata": {},
   "outputs": [
    {
     "data": {
      "text/html": [
       "<div>\n",
       "<style scoped>\n",
       "    .dataframe tbody tr th:only-of-type {\n",
       "        vertical-align: middle;\n",
       "    }\n",
       "\n",
       "    .dataframe tbody tr th {\n",
       "        vertical-align: top;\n",
       "    }\n",
       "\n",
       "    .dataframe thead th {\n",
       "        text-align: right;\n",
       "    }\n",
       "</style>\n",
       "<table border=\"1\" class=\"dataframe\">\n",
       "  <thead>\n",
       "    <tr style=\"text-align: right;\">\n",
       "      <th></th>\n",
       "      <th>month</th>\n",
       "      <th>subscriber_trips</th>\n",
       "      <th>customer_trips</th>\n",
       "      <th>total_trips</th>\n",
       "    </tr>\n",
       "  </thead>\n",
       "  <tbody>\n",
       "    <tr>\n",
       "      <th>0</th>\n",
       "      <td>April</td>\n",
       "      <td>109989</td>\n",
       "      <td>21180</td>\n",
       "      <td>131169</td>\n",
       "    </tr>\n",
       "    <tr>\n",
       "      <th>1</th>\n",
       "      <td>March</td>\n",
       "      <td>95075</td>\n",
       "      <td>16307</td>\n",
       "      <td>111382</td>\n",
       "    </tr>\n",
       "    <tr>\n",
       "      <th>2</th>\n",
       "      <td>October</td>\n",
       "      <td>87526</td>\n",
       "      <td>21411</td>\n",
       "      <td>108937</td>\n",
       "    </tr>\n",
       "    <tr>\n",
       "      <th>3</th>\n",
       "      <td>February</td>\n",
       "      <td>91857</td>\n",
       "      <td>14861</td>\n",
       "      <td>106718</td>\n",
       "    </tr>\n",
       "    <tr>\n",
       "      <th>4</th>\n",
       "      <td>September</td>\n",
       "      <td>74374</td>\n",
       "      <td>24184</td>\n",
       "      <td>98558</td>\n",
       "    </tr>\n",
       "    <tr>\n",
       "      <th>5</th>\n",
       "      <td>November</td>\n",
       "      <td>79636</td>\n",
       "      <td>15976</td>\n",
       "      <td>95612</td>\n",
       "    </tr>\n",
       "    <tr>\n",
       "      <th>6</th>\n",
       "      <td>January</td>\n",
       "      <td>82458</td>\n",
       "      <td>12344</td>\n",
       "      <td>94802</td>\n",
       "    </tr>\n",
       "    <tr>\n",
       "      <th>7</th>\n",
       "      <td>December</td>\n",
       "      <td>73579</td>\n",
       "      <td>12960</td>\n",
       "      <td>86539</td>\n",
       "    </tr>\n",
       "    <tr>\n",
       "      <th>8</th>\n",
       "      <td>August</td>\n",
       "      <td>60781</td>\n",
       "      <td>22511</td>\n",
       "      <td>83292</td>\n",
       "    </tr>\n",
       "    <tr>\n",
       "      <th>9</th>\n",
       "      <td>July</td>\n",
       "      <td>31095</td>\n",
       "      <td>12978</td>\n",
       "      <td>44073</td>\n",
       "    </tr>\n",
       "  </tbody>\n",
       "</table>\n",
       "</div>"
      ],
      "text/plain": [
       "       month  subscriber_trips  customer_trips  total_trips\n",
       "0      April            109989           21180       131169\n",
       "1      March             95075           16307       111382\n",
       "2    October             87526           21411       108937\n",
       "3   February             91857           14861       106718\n",
       "4  September             74374           24184        98558\n",
       "5   November             79636           15976        95612\n",
       "6    January             82458           12344        94802\n",
       "7   December             73579           12960        86539\n",
       "8     August             60781           22511        83292\n",
       "9       July             31095           12978        44073"
      ]
     },
     "execution_count": 11,
     "metadata": {},
     "output_type": "execute_result"
    }
   ],
   "source": [
    "trips_by_month_query = \"\"\"\n",
    "                 SELECT\n",
    "                     FORMAT_DATE('%B', DATE(start_date)) AS month,\n",
    "                     COUNT(Subscriber_trip) AS subscriber_trips, \n",
    "                     COUNT(Customer_trip) AS customer_trips, \n",
    "                     COUNT(*) AS total_trips\n",
    "                 FROM\n",
    "                     (SELECT\n",
    "                        start_date,\n",
    "                        CASE WHEN subscriber_type = 'Subscriber' THEN 1 END Subscriber_trip, \n",
    "                        CASE WHEN subscriber_type = 'Customer' THEN 1 END Customer_trip \n",
    "                      FROM \n",
    "                        `bigquery-public-data.san_francisco_bikeshare.bikeshare_trips`\n",
    "                      WHERE\n",
    "                        start_date >= '2017-07-01')\n",
    "                 GROUP BY\n",
    "                     1\n",
    "                 ORDER BY\n",
    "                     4 DESC\n",
    "                 \"\"\"\n",
    "\n",
    "trips_by_month = client.query(trips_by_month_query).to_dataframe()\n",
    "trips_by_month"
   ]
  },
  {
   "cell_type": "code",
   "execution_count": 12,
   "metadata": {},
   "outputs": [
    {
     "data": {
      "image/png": "[encoded data removed]",
      "text/plain": [
       "<matplotlib.figure.Figure at 0x1a1b0a6048>"
      ]
     },
     "metadata": {},
     "output_type": "display_data"
    }
   ],
   "source": [
    "months = [\"July\", \"August\", \"September\", \"October\", \"November\", \"December\",\n",
    "          \"January\", \"February\", \"March\", \"April\"]\n",
    "\n",
    "trips_by_month['month'] = pd.Categorical(trips_by_month['month'], categories=months, ordered=True)\n",
    "trips_by_month.sort_values('month', inplace=True)\n",
    "\n",
    "ax = trips_by_month.set_index('month')[['subscriber_trips', 'customer_trips']].plot(\n",
    "    kind='bar', \n",
    "    rot=0, \n",
    "    figsize=(14,6), \n",
    "    color=['navy', 'orangered']\n",
    ")\n",
    "\n",
    "ax.set_title('Monthly Trips by User Type (after Ford GoBike\\'s Launch)', fontsize=14)\n",
    "ax.set_ylabel('Number of Trips')\n",
    "ax.set_xlabel('\\n June 2017 to April 2018')\n",
    "\n",
    "fmt = '{x:,.0f}'\n",
    "ax.yaxis.set_major_formatter(mtick.StrMethodFormatter(fmt))\n",
    "\n",
    "for tick in ax.yaxis.get_major_ticks():\n",
    "    tick.label.set_fontsize(12)\n",
    "for tick in ax.xaxis.get_major_ticks():\n",
    "    tick.label.set_fontsize(12)\n",
    "\n",
    "ax.axhline(trips_by_month['subscriber_trips'].mean(), color='red', linestyle='dashed',linewidth=1)\n",
    "ax.text(0.01, 81000,'Average Trips by Subscriber', fontsize=10)\n",
    "\n",
    "pass"
   ]
  },
  {
   "cell_type": "markdown",
   "metadata": {},
   "source": [
    "#### Let's break number of trips further down by day of week and time of day for subscribers & non-subscribers\n",
    "Prepare tables showing trips by day of week and hour of day\n",
    "- data from 4/1/2014 to 4/30/2018 is queried"
   ]
  },
  {
   "cell_type": "code",
   "execution_count": 13,
   "metadata": {},
   "outputs": [],
   "source": [
    "trips_dow_subscriber = \"\"\"\n",
    "                       SELECT \n",
    "                           EXTRACT (DAYOFWEEK FROM start_date) AS day_of_week,\n",
    "                           EXTRACT (HOUR FROM start_date) AS hour,\n",
    "                           COUNT(*) AS num_trips\n",
    "                        FROM\n",
    "                            `bigquery-public-data.san_francisco_bikeshare.bikeshare_trips`\n",
    "                        WHERE\n",
    "                            subscriber_type = 'Subscriber'\n",
    "                            AND start_date >= '2014-01-01' \n",
    "                            AND start_date < '2018-05-01'\n",
    "                        GROUP BY\n",
    "                            1,2\n",
    "                        \"\"\"\n",
    "\n",
    "trips_dow_customer = \"\"\"\n",
    "                       SELECT \n",
    "                           EXTRACT (DAYOFWEEK FROM start_date) AS day_of_week,\n",
    "                           EXTRACT (HOUR FROM start_date) AS hour,\n",
    "                           COUNT(*) AS num_trips\n",
    "                        FROM\n",
    "                            `bigquery-public-data.san_francisco_bikeshare.bikeshare_trips`\n",
    "                        WHERE\n",
    "                            subscriber_type = 'Customer'\n",
    "                            AND start_date >= '2014-01-01' \n",
    "                            AND start_date < '2018-05-01'\n",
    "                        GROUP BY\n",
    "                            1,2\n",
    "                        \"\"\"\n",
    "\n",
    "trips_dow_sub = client.query(trips_dow_subscriber).to_dataframe()\n",
    "trips_dow_cus = client.query(trips_dow_customer).to_dataframe()"
   ]
  },
  {
   "cell_type": "code",
   "execution_count": 14,
   "metadata": {},
   "outputs": [
    {
     "data": {
      "image/png": "[encoded data removed]",
      "text/plain": [
       "<matplotlib.figure.Figure at 0x1a1aff5978>"
      ]
     },
     "metadata": {},
     "output_type": "display_data"
    },
    {
     "data": {
      "image/png": "[encoded data removed]",
      "text/plain": [
       "<matplotlib.figure.Figure at 0x1a1dcd8b70>"
      ]
     },
     "metadata": {},
     "output_type": "display_data"
    }
   ],
   "source": [
    "dow_dict = {\n",
    "    1: \"Sunday\",\n",
    "    2: \"Monday\",\n",
    "    3: \"Tuesday\",\n",
    "    4: \"Wednesday\",\n",
    "    5: \"Thursday\",\n",
    "    6: \"Friday\",\n",
    "    7: \"Saturday\"\n",
    "}\n",
    "\n",
    "dow = [\"Sunday\", \"Monday\", \"Tuesday\", \"Wednesday\", \"Thursday\", \"Friday\", \"Saturday\"]\n",
    "trips_dow_sub['day_of_week'] = trips_dow_sub['day_of_week'].replace(dow_dict)\n",
    "trips_dow_sub['day_of_week'] = trips_dow_sub['day_of_week'].astype(CategoricalDtype(dow, ordered=True))\n",
    "trips_dow_cus['day_of_week'] = trips_dow_cus['day_of_week'].replace(dow_dict)\n",
    "trips_dow_cus['day_of_week'] = trips_dow_cus['day_of_week'].astype(CategoricalDtype(dow, ordered=True))\n",
    "trips_dow_sub = trips_dow_sub.groupby(['hour', 'day_of_week']).sum().unstack()\n",
    "trips_dow_cus = trips_dow_cus.groupby(['hour', 'day_of_week']).sum().unstack()\n",
    "\n",
    "\n",
    "data = [trips_dow_sub, trips_dow_cus]\n",
    "title = ['Number of {} Trips by Day of Week and Time of Day'.format(i) for i in ('Subscriber', 'Non-Subscriber')]\n",
    "\n",
    "plot_data = zip(data, title)\n",
    "\n",
    "for item in plot_data:\n",
    "    \n",
    "    fig = plt.figure(figsize=(12,8))\n",
    "    sns.heatmap(item[0], cmap='magma')\n",
    "\n",
    "    plt.title(item[1])\n",
    "    plt.xlabel(' ')\n",
    "    plt.ylabel('Hour of Day')\n",
    "\n",
    "pass"
   ]
  },
  {
   "cell_type": "markdown",
   "metadata": {},
   "source": [
    "Let's re-plot using plotly"
   ]
  },
  {
   "cell_type": "code",
   "execution_count": 120,
   "metadata": {},
   "outputs": [
    {
     "data": {
      "application/vnd.plotly.v1+json": {
       "config": {
        "plotlyServerURL": "https://plot.ly"
       },
       "data": [
        {
         "type": "heatmap",
         "x": [
          "Sunday",
          "Monday",
          "Tuesday",
          "Wednesday",
          "Thursday",
          "Friday",
          "Saturday"
         ],
         "y": [
          0,
          1,
          2,
          3,
          4,
          5,
          6,
          7,
          8,
          9,
          10,
          11,
          12,
          13,
          14,
          15,
          16,
          17,
          18,
          19,
          20,
          21,
          22,
          23
         ],
         "z": [
          [
           1087,
           450,
           593,
           653,
           681,
           775,
           1219
          ],
          [
           605,
           187,
           220,
           282,
           280,
           350,
           678
          ],
          [
           358,
           111,
           114,
           128,
           165,
           173,
           342
          ],
          [
           162,
           132,
           135,
           129,
           121,
           121,
           129
          ],
          [
           97,
           388,
           421,
           404,
           366,
           363,
           117
          ],
          [
           240,
           1362,
           1705,
           1731,
           1516,
           1383,
           272
          ],
          [
           421,
           6189,
           7443,
           6862,
           6491,
           5507,
           601
          ],
          [
           955,
           20435,
           23138,
           22442,
           21132,
           17725,
           1526
          ],
          [
           1953,
           41596,
           45951,
           45283,
           42702,
           36772,
           3461
          ],
          [
           3738,
           29408,
           31385,
           31956,
           30084,
           27546,
           4670
          ],
          [
           4939,
           10605,
           11339,
           11795,
           11428,
           10966,
           5976
          ],
          [
           5661,
           7853,
           8874,
           9242,
           9356,
           9024,
           6591
          ],
          [
           6026,
           9202,
           10950,
           10712,
           10868,
           10360,
           6974
          ],
          [
           6282,
           8392,
           9340,
           9720,
           9768,
           9847,
           6910
          ],
          [
           6146,
           7064,
           7681,
           7834,
           8034,
           8882,
           6572
          ],
          [
           6125,
           9990,
           10970,
           11344,
           10763,
           12158,
           6449
          ],
          [
           5984,
           22791,
           24722,
           23991,
           22817,
           22764,
           6441
          ],
          [
           5462,
           39642,
           41707,
           40294,
           38052,
           32470,
           5878
          ],
          [
           4630,
           27418,
           30049,
           28685,
           26741,
           20477,
           5303
          ],
          [
           3530,
           13709,
           15079,
           14111,
           13796,
           9609,
           4093
          ],
          [
           2628,
           7512,
           8284,
           8266,
           7894,
           5180,
           2994
          ],
          [
           2092,
           4708,
           5515,
           5432,
           5382,
           3773,
           2431
          ],
          [
           1366,
           2550,
           3210,
           3182,
           3347,
           3012,
           2115
          ],
          [
           884,
           1233,
           1597,
           1688,
           1884,
           2130,
           1721
          ]
         ]
        }
       ],
       "layout": {
        "height": 650,
        "template": {
         "data": {
          "bar": [
           {
            "error_x": {
             "color": "#2a3f5f"
            },
            "error_y": {
             "color": "#2a3f5f"
            },
            "marker": {
             "line": {
              "color": "#E5ECF6",
              "width": 0.5
             }
            },
            "type": "bar"
           }
          ],
          "barpolar": [
           {
            "marker": {
             "line": {
              "color": "#E5ECF6",
              "width": 0.5
             }
            },
            "type": "barpolar"
           }
          ],
          "carpet": [
           {
            "aaxis": {
             "endlinecolor": "#2a3f5f",
             "gridcolor": "white",
             "linecolor": "white",
             "minorgridcolor": "white",
             "startlinecolor": "#2a3f5f"
            },
            "baxis": {
             "endlinecolor": "#2a3f5f",
             "gridcolor": "white",
             "linecolor": "white",
             "minorgridcolor": "white",
             "startlinecolor": "#2a3f5f"
            },
            "type": "carpet"
           }
          ],
          "choropleth": [
           {
            "colorbar": {
             "outlinewidth": 0,
             "ticks": ""
            },
            "type": "choropleth"
           }
          ],
          "contour": [
           {
            "colorbar": {
             "outlinewidth": 0,
             "ticks": ""
            },
            "colorscale": [
             [
              0,
              "#0d0887"
             ],
             [
              0.1111111111111111,
              "#46039f"
             ],
             [
              0.2222222222222222,
              "#7201a8"
             ],
             [
              0.3333333333333333,
              "#9c179e"
             ],
             [
              0.4444444444444444,
              "#bd3786"
             ],
             [
              0.5555555555555556,
              "#d8576b"
             ],
             [
              0.6666666666666666,
              "#ed7953"
             ],
             [
              0.7777777777777778,
              "#fb9f3a"
             ],
             [
              0.8888888888888888,
              "#fdca26"
             ],
             [
              1,
              "#f0f921"
             ]
            ],
            "type": "contour"
           }
          ],
          "contourcarpet": [
           {
            "colorbar": {
             "outlinewidth": 0,
             "ticks": ""
            },
            "type": "contourcarpet"
           }
          ],
          "heatmap": [
           {
            "colorbar": {
             "outlinewidth": 0,
             "ticks": ""
            },
            "colorscale": [
             [
              0,
              "#0d0887"
             ],
             [
              0.1111111111111111,
              "#46039f"
             ],
             [
              0.2222222222222222,
              "#7201a8"
             ],
             [
              0.3333333333333333,
              "#9c179e"
             ],
             [
              0.4444444444444444,
              "#bd3786"
             ],
             [
              0.5555555555555556,
              "#d8576b"
             ],
             [
              0.6666666666666666,
              "#ed7953"
             ],
             [
              0.7777777777777778,
              "#fb9f3a"
             ],
             [
              0.8888888888888888,
              "#fdca26"
             ],
             [
              1,
              "#f0f921"
             ]
            ],
            "type": "heatmap"
           }
          ],
          "heatmapgl": [
           {
            "colorbar": {
             "outlinewidth": 0,
             "ticks": ""
            },
            "colorscale": [
             [
              0,
              "#0d0887"
             ],
             [
              0.1111111111111111,
              "#46039f"
             ],
             [
              0.2222222222222222,
              "#7201a8"
             ],
             [
              0.3333333333333333,
              "#9c179e"
             ],
             [
              0.4444444444444444,
              "#bd3786"
             ],
             [
              0.5555555555555556,
              "#d8576b"
             ],
             [
              0.6666666666666666,
              "#ed7953"
             ],
             [
              0.7777777777777778,
              "#fb9f3a"
             ],
             [
              0.8888888888888888,
              "#fdca26"
             ],
             [
              1,
              "#f0f921"
             ]
            ],
            "type": "heatmapgl"
           }
          ],
          "histogram": [
           {
            "marker": {
             "colorbar": {
              "outlinewidth": 0,
              "ticks": ""
             }
            },
            "type": "histogram"
           }
          ],
          "histogram2d": [
           {
            "colorbar": {
             "outlinewidth": 0,
             "ticks": ""
            },
            "colorscale": [
             [
              0,
              "#0d0887"
             ],
             [
              0.1111111111111111,
              "#46039f"
             ],
             [
              0.2222222222222222,
              "#7201a8"
             ],
             [
              0.3333333333333333,
              "#9c179e"
             ],
             [
              0.4444444444444444,
              "#bd3786"
             ],
             [
              0.5555555555555556,
              "#d8576b"
             ],
             [
              0.6666666666666666,
              "#ed7953"
             ],
             [
              0.7777777777777778,
              "#fb9f3a"
             ],
             [
              0.8888888888888888,
              "#fdca26"
             ],
             [
              1,
              "#f0f921"
             ]
            ],
            "type": "histogram2d"
           }
          ],
          "histogram2dcontour": [
           {
            "colorbar": {
             "outlinewidth": 0,
             "ticks": ""
            },
            "colorscale": [
             [
              0,
              "#0d0887"
             ],
             [
              0.1111111111111111,
              "#46039f"
             ],
             [
              0.2222222222222222,
              "#7201a8"
             ],
             [
              0.3333333333333333,
              "#9c179e"
             ],
             [
              0.4444444444444444,
              "#bd3786"
             ],
             [
              0.5555555555555556,
              "#d8576b"
             ],
             [
              0.6666666666666666,
              "#ed7953"
             ],
             [
              0.7777777777777778,
              "#fb9f3a"
             ],
             [
              0.8888888888888888,
              "#fdca26"
             ],
             [
              1,
              "#f0f921"
             ]
            ],
            "type": "histogram2dcontour"
           }
          ],
          "mesh3d": [
           {
            "colorbar": {
             "outlinewidth": 0,
             "ticks": ""
            },
            "type": "mesh3d"
           }
          ],
          "parcoords": [
           {
            "line": {
             "colorbar": {
              "outlinewidth": 0,
              "ticks": ""
             }
            },
            "type": "parcoords"
           }
          ],
          "scatter": [
           {
            "marker": {
             "colorbar": {
              "outlinewidth": 0,
              "ticks": ""
             }
            },
            "type": "scatter"
           }
          ],
          "scatter3d": [
           {
            "line": {
             "colorbar": {
              "outlinewidth": 0,
              "ticks": ""
             }
            },
            "marker": {
             "colorbar": {
              "outlinewidth": 0,
              "ticks": ""
             }
            },
            "type": "scatter3d"
           }
          ],
          "scattercarpet": [
           {
            "marker": {
             "colorbar": {
              "outlinewidth": 0,
              "ticks": ""
             }
            },
            "type": "scattercarpet"
           }
          ],
          "scattergeo": [
           {
            "marker": {
             "colorbar": {
              "outlinewidth": 0,
              "ticks": ""
             }
            },
            "type": "scattergeo"
           }
          ],
          "scattergl": [
           {
            "marker": {
             "colorbar": {
              "outlinewidth": 0,
              "ticks": ""
             }
            },
            "type": "scattergl"
           }
          ],
          "scattermapbox": [
           {
            "marker": {
             "colorbar": {
              "outlinewidth": 0,
              "ticks": ""
             }
            },
            "type": "scattermapbox"
           }
          ],
          "scatterpolar": [
           {
            "marker": {
             "colorbar": {
              "outlinewidth": 0,
              "ticks": ""
             }
            },
            "type": "scatterpolar"
           }
          ],
          "scatterpolargl": [
           {
            "marker": {
             "colorbar": {
              "outlinewidth": 0,
              "ticks": ""
             }
            },
            "type": "scatterpolargl"
           }
          ],
          "scatterternary": [
           {
            "marker": {
             "colorbar": {
              "outlinewidth": 0,
              "ticks": ""
             }
            },
            "type": "scatterternary"
           }
          ],
          "surface": [
           {
            "colorbar": {
             "outlinewidth": 0,
             "ticks": ""
            },
            "colorscale": [
             [
              0,
              "#0d0887"
             ],
             [
              0.1111111111111111,
              "#46039f"
             ],
             [
              0.2222222222222222,
              "#7201a8"
             ],
             [
              0.3333333333333333,
              "#9c179e"
             ],
             [
              0.4444444444444444,
              "#bd3786"
             ],
             [
              0.5555555555555556,
              "#d8576b"
             ],
             [
              0.6666666666666666,
              "#ed7953"
             ],
             [
              0.7777777777777778,
              "#fb9f3a"
             ],
             [
              0.8888888888888888,
              "#fdca26"
             ],
             [
              1,
              "#f0f921"
             ]
            ],
            "type": "surface"
           }
          ],
          "table": [
           {
            "cells": {
             "fill": {
              "color": "#EBF0F8"
             },
             "line": {
              "color": "white"
             }
            },
            "header": {
             "fill": {
              "color": "#C8D4E3"
             },
             "line": {
              "color": "white"
             }
            },
            "type": "table"
           }
          ]
         },
         "layout": {
          "annotationdefaults": {
           "arrowcolor": "#2a3f5f",
           "arrowhead": 0,
           "arrowwidth": 1
          },
          "colorscale": {
           "diverging": [
            [
             0,
             "#8e0152"
            ],
            [
             0.1,
             "#c51b7d"
            ],
            [
             0.2,
             "#de77ae"
            ],
            [
             0.3,
             "#f1b6da"
            ],
            [
             0.4,
             "#fde0ef"
            ],
            [
             0.5,
             "#f7f7f7"
            ],
            [
             0.6,
             "#e6f5d0"
            ],
            [
             0.7,
             "#b8e186"
            ],
            [
             0.8,
             "#7fbc41"
            ],
            [
             0.9,
             "#4d9221"
            ],
            [
             1,
             "#276419"
            ]
           ],
           "sequential": [
            [
             0,
             "#0d0887"
            ],
            [
             0.1111111111111111,
             "#46039f"
            ],
            [
             0.2222222222222222,
             "#7201a8"
            ],
            [
             0.3333333333333333,
             "#9c179e"
            ],
            [
             0.4444444444444444,
             "#bd3786"
            ],
            [
             0.5555555555555556,
             "#d8576b"
            ],
            [
             0.6666666666666666,
             "#ed7953"
            ],
            [
             0.7777777777777778,
             "#fb9f3a"
            ],
            [
             0.8888888888888888,
             "#fdca26"
            ],
            [
             1,
             "#f0f921"
            ]
           ],
           "sequentialminus": [
            [
             0,
             "#0d0887"
            ],
            [
             0.1111111111111111,
             "#46039f"
            ],
            [
             0.2222222222222222,
             "#7201a8"
            ],
            [
             0.3333333333333333,
             "#9c179e"
            ],
            [
             0.4444444444444444,
             "#bd3786"
            ],
            [
             0.5555555555555556,
             "#d8576b"
            ],
            [
             0.6666666666666666,
             "#ed7953"
            ],
            [
             0.7777777777777778,
             "#fb9f3a"
            ],
            [
             0.8888888888888888,
             "#fdca26"
            ],
            [
             1,
             "#f0f921"
            ]
           ]
          },
          "colorway": [
           "#636efa",
           "#EF553B",
           "#00cc96",
           "#ab63fa",
           "#FFA15A",
           "#19d3f3",
           "#FF6692",
           "#B6E880",
           "#FF97FF",
           "#FECB52"
          ],
          "font": {
           "color": "#2a3f5f"
          },
          "geo": {
           "bgcolor": "white",
           "lakecolor": "white",
           "landcolor": "#E5ECF6",
           "showlakes": true,
           "showland": true,
           "subunitcolor": "white"
          },
          "hoverlabel": {
           "align": "left"
          },
          "hovermode": "closest",
          "mapbox": {
           "style": "light"
          },
          "paper_bgcolor": "white",
          "plot_bgcolor": "#E5ECF6",
          "polar": {
           "angularaxis": {
            "gridcolor": "white",
            "linecolor": "white",
            "ticks": ""
           },
           "bgcolor": "#E5ECF6",
           "radialaxis": {
            "gridcolor": "white",
            "linecolor": "white",
            "ticks": ""
           }
          },
          "scene": {
           "xaxis": {
            "backgroundcolor": "#E5ECF6",
            "gridcolor": "white",
            "gridwidth": 2,
            "linecolor": "white",
            "showbackground": true,
            "ticks": "",
            "zerolinecolor": "white"
           },
           "yaxis": {
            "backgroundcolor": "#E5ECF6",
            "gridcolor": "white",
            "gridwidth": 2,
            "linecolor": "white",
            "showbackground": true,
            "ticks": "",
            "zerolinecolor": "white"
           },
           "zaxis": {
            "backgroundcolor": "#E5ECF6",
            "gridcolor": "white",
            "gridwidth": 2,
            "linecolor": "white",
            "showbackground": true,
            "ticks": "",
            "zerolinecolor": "white"
           }
          },
          "shapedefaults": {
           "line": {
            "color": "#2a3f5f"
           }
          },
          "ternary": {
           "aaxis": {
            "gridcolor": "white",
            "linecolor": "white",
            "ticks": ""
           },
           "baxis": {
            "gridcolor": "white",
            "linecolor": "white",
            "ticks": ""
           },
           "bgcolor": "#E5ECF6",
           "caxis": {
            "gridcolor": "white",
            "linecolor": "white",
            "ticks": ""
           }
          },
          "title": {
           "x": 0.05
          },
          "xaxis": {
           "automargin": true,
           "gridcolor": "white",
           "linecolor": "white",
           "ticks": "",
           "zerolinecolor": "white",
           "zerolinewidth": 2
          },
          "yaxis": {
           "automargin": true,
           "gridcolor": "white",
           "linecolor": "white",
           "ticks": "",
           "zerolinecolor": "white",
           "zerolinewidth": 2
          }
         }
        },
        "title": {
         "font": {
          "size": 20
         },
         "text": "Number of Subscriber Trips by Day of Week and Time of Day"
        },
        "xaxis": {
         "tickfont": {
          "size": 12
         },
         "title": {
          "text": "Day of Week"
         },
         "type": "category"
        },
        "yaxis": {
         "tickfont": {
          "size": 12
         },
         "title": {
          "text": "Hour of Day"
         },
         "type": "category"
        }
       }
      },
      "text/html": [
       "<div>\n",
       "        \n",
       "        \n",
       "            <div id=\"b15f4cb5-7867-4e32-a1fb-d0eb68f423fa\" class=\"plotly-graph-div\" style=\"height:650px; width:100%;\"></div>\n",
       "            <script type=\"text/javascript\">\n",
       "                require([\"plotly\"], function(Plotly) {\n",
       "                    window.PLOTLYENV=window.PLOTLYENV || {};\n",
       "                    \n",
       "                if (document.getElementById(\"b15f4cb5-7867-4e32-a1fb-d0eb68f423fa\")) {\n",
       "                    Plotly.newPlot(\n",
       "                        'b15f4cb5-7867-4e32-a1fb-d0eb68f423fa',\n",
       "                        [{\"type\": \"heatmap\", \"x\": [\"Sunday\", \"Monday\", \"Tuesday\", \"Wednesday\", \"Thursday\", \"Friday\", \"Saturday\"], \"y\": [0, 1, 2, 3, 4, 5, 6, 7, 8, 9, 10, 11, 12, 13, 14, 15, 16, 17, 18, 19, 20, 21, 22, 23], \"z\": [[1087, 450, 593, 653, 681, 775, 1219], [605, 187, 220, 282, 280, 350, 678], [358, 111, 114, 128, 165, 173, 342], [162, 132, 135, 129, 121, 121, 129], [97, 388, 421, 404, 366, 363, 117], [240, 1362, 1705, 1731, 1516, 1383, 272], [421, 6189, 7443, 6862, 6491, 5507, 601], [955, 20435, 23138, 22442, 21132, 17725, 1526], [1953, 41596, 45951, 45283, 42702, 36772, 3461], [3738, 29408, 31385, 31956, 30084, 27546, 4670], [4939, 10605, 11339, 11795, 11428, 10966, 5976], [5661, 7853, 8874, 9242, 9356, 9024, 6591], [6026, 9202, 10950, 10712, 10868, 10360, 6974], [6282, 8392, 9340, 9720, 9768, 9847, 6910], [6146, 7064, 7681, 7834, 8034, 8882, 6572], [6125, 9990, 10970, 11344, 10763, 12158, 6449], [5984, 22791, 24722, 23991, 22817, 22764, 6441], [5462, 39642, 41707, 40294, 38052, 32470, 5878], [4630, 27418, 30049, 28685, 26741, 20477, 5303], [3530, 13709, 15079, 14111, 13796, 9609, 4093], [2628, 7512, 8284, 8266, 7894, 5180, 2994], [2092, 4708, 5515, 5432, 5382, 3773, 2431], [1366, 2550, 3210, 3182, 3347, 3012, 2115], [884, 1233, 1597, 1688, 1884, 2130, 1721]]}],\n",
       "                        {\"height\": 650, \"template\": {\"data\": {\"bar\": [{\"error_x\": {\"color\": \"#2a3f5f\"}, \"error_y\": {\"color\": \"#2a3f5f\"}, \"marker\": {\"line\": {\"color\": \"#E5ECF6\", \"width\": 0.5}}, \"type\": \"bar\"}], \"barpolar\": [{\"marker\": {\"line\": {\"color\": \"#E5ECF6\", \"width\": 0.5}}, \"type\": \"barpolar\"}], \"carpet\": [{\"aaxis\": {\"endlinecolor\": \"#2a3f5f\", \"gridcolor\": \"white\", \"linecolor\": \"white\", \"minorgridcolor\": \"white\", \"startlinecolor\": \"#2a3f5f\"}, \"baxis\": {\"endlinecolor\": \"#2a3f5f\", \"gridcolor\": \"white\", \"linecolor\": \"white\", \"minorgridcolor\": \"white\", \"startlinecolor\": \"#2a3f5f\"}, \"type\": \"carpet\"}], \"choropleth\": [{\"colorbar\": {\"outlinewidth\": 0, \"ticks\": \"\"}, \"type\": \"choropleth\"}], \"contour\": [{\"colorbar\": {\"outlinewidth\": 0, \"ticks\": \"\"}, \"colorscale\": [[0.0, \"#0d0887\"], [0.1111111111111111, \"#46039f\"], [0.2222222222222222, \"#7201a8\"], [0.3333333333333333, \"#9c179e\"], [0.4444444444444444, \"#bd3786\"], [0.5555555555555556, \"#d8576b\"], [0.6666666666666666, \"#ed7953\"], [0.7777777777777778, \"#fb9f3a\"], [0.8888888888888888, \"#fdca26\"], [1.0, \"#f0f921\"]], \"type\": \"contour\"}], \"contourcarpet\": [{\"colorbar\": {\"outlinewidth\": 0, \"ticks\": \"\"}, \"type\": \"contourcarpet\"}], \"heatmap\": [{\"colorbar\": {\"outlinewidth\": 0, \"ticks\": \"\"}, \"colorscale\": [[0.0, \"#0d0887\"], [0.1111111111111111, \"#46039f\"], [0.2222222222222222, \"#7201a8\"], [0.3333333333333333, \"#9c179e\"], [0.4444444444444444, \"#bd3786\"], [0.5555555555555556, \"#d8576b\"], [0.6666666666666666, \"#ed7953\"], [0.7777777777777778, \"#fb9f3a\"], [0.8888888888888888, \"#fdca26\"], [1.0, \"#f0f921\"]], \"type\": \"heatmap\"}], \"heatmapgl\": [{\"colorbar\": {\"outlinewidth\": 0, \"ticks\": \"\"}, \"colorscale\": [[0.0, \"#0d0887\"], [0.1111111111111111, \"#46039f\"], [0.2222222222222222, \"#7201a8\"], [0.3333333333333333, \"#9c179e\"], [0.4444444444444444, \"#bd3786\"], [0.5555555555555556, \"#d8576b\"], [0.6666666666666666, \"#ed7953\"], [0.7777777777777778, \"#fb9f3a\"], [0.8888888888888888, \"#fdca26\"], [1.0, \"#f0f921\"]], \"type\": \"heatmapgl\"}], \"histogram\": [{\"marker\": {\"colorbar\": {\"outlinewidth\": 0, \"ticks\": \"\"}}, \"type\": \"histogram\"}], \"histogram2d\": [{\"colorbar\": {\"outlinewidth\": 0, \"ticks\": \"\"}, \"colorscale\": [[0.0, \"#0d0887\"], [0.1111111111111111, \"#46039f\"], [0.2222222222222222, \"#7201a8\"], [0.3333333333333333, \"#9c179e\"], [0.4444444444444444, \"#bd3786\"], [0.5555555555555556, \"#d8576b\"], [0.6666666666666666, \"#ed7953\"], [0.7777777777777778, \"#fb9f3a\"], [0.8888888888888888, \"#fdca26\"], [1.0, \"#f0f921\"]], \"type\": \"histogram2d\"}], \"histogram2dcontour\": [{\"colorbar\": {\"outlinewidth\": 0, \"ticks\": \"\"}, \"colorscale\": [[0.0, \"#0d0887\"], [0.1111111111111111, \"#46039f\"], [0.2222222222222222, \"#7201a8\"], [0.3333333333333333, \"#9c179e\"], [0.4444444444444444, \"#bd3786\"], [0.5555555555555556, \"#d8576b\"], [0.6666666666666666, \"#ed7953\"], [0.7777777777777778, \"#fb9f3a\"], [0.8888888888888888, \"#fdca26\"], [1.0, \"#f0f921\"]], \"type\": \"histogram2dcontour\"}], \"mesh3d\": [{\"colorbar\": {\"outlinewidth\": 0, \"ticks\": \"\"}, \"type\": \"mesh3d\"}], \"parcoords\": [{\"line\": {\"colorbar\": {\"outlinewidth\": 0, \"ticks\": \"\"}}, \"type\": \"parcoords\"}], \"scatter\": [{\"marker\": {\"colorbar\": {\"outlinewidth\": 0, \"ticks\": \"\"}}, \"type\": \"scatter\"}], \"scatter3d\": [{\"line\": {\"colorbar\": {\"outlinewidth\": 0, \"ticks\": \"\"}}, \"marker\": {\"colorbar\": {\"outlinewidth\": 0, \"ticks\": \"\"}}, \"type\": \"scatter3d\"}], \"scattercarpet\": [{\"marker\": {\"colorbar\": {\"outlinewidth\": 0, \"ticks\": \"\"}}, \"type\": \"scattercarpet\"}], \"scattergeo\": [{\"marker\": {\"colorbar\": {\"outlinewidth\": 0, \"ticks\": \"\"}}, \"type\": \"scattergeo\"}], \"scattergl\": [{\"marker\": {\"colorbar\": {\"outlinewidth\": 0, \"ticks\": \"\"}}, \"type\": \"scattergl\"}], \"scattermapbox\": [{\"marker\": {\"colorbar\": {\"outlinewidth\": 0, \"ticks\": \"\"}}, \"type\": \"scattermapbox\"}], \"scatterpolar\": [{\"marker\": {\"colorbar\": {\"outlinewidth\": 0, \"ticks\": \"\"}}, \"type\": \"scatterpolar\"}], \"scatterpolargl\": [{\"marker\": {\"colorbar\": {\"outlinewidth\": 0, \"ticks\": \"\"}}, \"type\": \"scatterpolargl\"}], \"scatterternary\": [{\"marker\": {\"colorbar\": {\"outlinewidth\": 0, \"ticks\": \"\"}}, \"type\": \"scatterternary\"}], \"surface\": [{\"colorbar\": {\"outlinewidth\": 0, \"ticks\": \"\"}, \"colorscale\": [[0.0, \"#0d0887\"], [0.1111111111111111, \"#46039f\"], [0.2222222222222222, \"#7201a8\"], [0.3333333333333333, \"#9c179e\"], [0.4444444444444444, \"#bd3786\"], [0.5555555555555556, \"#d8576b\"], [0.6666666666666666, \"#ed7953\"], [0.7777777777777778, \"#fb9f3a\"], [0.8888888888888888, \"#fdca26\"], [1.0, \"#f0f921\"]], \"type\": \"surface\"}], \"table\": [{\"cells\": {\"fill\": {\"color\": \"#EBF0F8\"}, \"line\": {\"color\": \"white\"}}, \"header\": {\"fill\": {\"color\": \"#C8D4E3\"}, \"line\": {\"color\": \"white\"}}, \"type\": \"table\"}]}, \"layout\": {\"annotationdefaults\": {\"arrowcolor\": \"#2a3f5f\", \"arrowhead\": 0, \"arrowwidth\": 1}, \"colorscale\": {\"diverging\": [[0, \"#8e0152\"], [0.1, \"#c51b7d\"], [0.2, \"#de77ae\"], [0.3, \"#f1b6da\"], [0.4, \"#fde0ef\"], [0.5, \"#f7f7f7\"], [0.6, \"#e6f5d0\"], [0.7, \"#b8e186\"], [0.8, \"#7fbc41\"], [0.9, \"#4d9221\"], [1, \"#276419\"]], \"sequential\": [[0.0, \"#0d0887\"], [0.1111111111111111, \"#46039f\"], [0.2222222222222222, \"#7201a8\"], [0.3333333333333333, \"#9c179e\"], [0.4444444444444444, \"#bd3786\"], [0.5555555555555556, \"#d8576b\"], [0.6666666666666666, \"#ed7953\"], [0.7777777777777778, \"#fb9f3a\"], [0.8888888888888888, \"#fdca26\"], [1.0, \"#f0f921\"]], \"sequentialminus\": [[0.0, \"#0d0887\"], [0.1111111111111111, \"#46039f\"], [0.2222222222222222, \"#7201a8\"], [0.3333333333333333, \"#9c179e\"], [0.4444444444444444, \"#bd3786\"], [0.5555555555555556, \"#d8576b\"], [0.6666666666666666, \"#ed7953\"], [0.7777777777777778, \"#fb9f3a\"], [0.8888888888888888, \"#fdca26\"], [1.0, \"#f0f921\"]]}, \"colorway\": [\"#636efa\", \"#EF553B\", \"#00cc96\", \"#ab63fa\", \"#FFA15A\", \"#19d3f3\", \"#FF6692\", \"#B6E880\", \"#FF97FF\", \"#FECB52\"], \"font\": {\"color\": \"#2a3f5f\"}, \"geo\": {\"bgcolor\": \"white\", \"lakecolor\": \"white\", \"landcolor\": \"#E5ECF6\", \"showlakes\": true, \"showland\": true, \"subunitcolor\": \"white\"}, \"hoverlabel\": {\"align\": \"left\"}, \"hovermode\": \"closest\", \"mapbox\": {\"style\": \"light\"}, \"paper_bgcolor\": \"white\", \"plot_bgcolor\": \"#E5ECF6\", \"polar\": {\"angularaxis\": {\"gridcolor\": \"white\", \"linecolor\": \"white\", \"ticks\": \"\"}, \"bgcolor\": \"#E5ECF6\", \"radialaxis\": {\"gridcolor\": \"white\", \"linecolor\": \"white\", \"ticks\": \"\"}}, \"scene\": {\"xaxis\": {\"backgroundcolor\": \"#E5ECF6\", \"gridcolor\": \"white\", \"gridwidth\": 2, \"linecolor\": \"white\", \"showbackground\": true, \"ticks\": \"\", \"zerolinecolor\": \"white\"}, \"yaxis\": {\"backgroundcolor\": \"#E5ECF6\", \"gridcolor\": \"white\", \"gridwidth\": 2, \"linecolor\": \"white\", \"showbackground\": true, \"ticks\": \"\", \"zerolinecolor\": \"white\"}, \"zaxis\": {\"backgroundcolor\": \"#E5ECF6\", \"gridcolor\": \"white\", \"gridwidth\": 2, \"linecolor\": \"white\", \"showbackground\": true, \"ticks\": \"\", \"zerolinecolor\": \"white\"}}, \"shapedefaults\": {\"line\": {\"color\": \"#2a3f5f\"}}, \"ternary\": {\"aaxis\": {\"gridcolor\": \"white\", \"linecolor\": \"white\", \"ticks\": \"\"}, \"baxis\": {\"gridcolor\": \"white\", \"linecolor\": \"white\", \"ticks\": \"\"}, \"bgcolor\": \"#E5ECF6\", \"caxis\": {\"gridcolor\": \"white\", \"linecolor\": \"white\", \"ticks\": \"\"}}, \"title\": {\"x\": 0.05}, \"xaxis\": {\"automargin\": true, \"gridcolor\": \"white\", \"linecolor\": \"white\", \"ticks\": \"\", \"zerolinecolor\": \"white\", \"zerolinewidth\": 2}, \"yaxis\": {\"automargin\": true, \"gridcolor\": \"white\", \"linecolor\": \"white\", \"ticks\": \"\", \"zerolinecolor\": \"white\", \"zerolinewidth\": 2}}}, \"title\": {\"font\": {\"size\": 20}, \"text\": \"Number of Subscriber Trips by Day of Week and Time of Day\"}, \"xaxis\": {\"tickfont\": {\"size\": 12}, \"title\": {\"text\": \"Day of Week\"}, \"type\": \"category\"}, \"yaxis\": {\"tickfont\": {\"size\": 12}, \"title\": {\"text\": \"Hour of Day\"}, \"type\": \"category\"}},\n",
       "                        {\"responsive\": true}\n",
       "                    ).then(function(){\n",
       "                            \n",
       "var gd = document.getElementById('b15f4cb5-7867-4e32-a1fb-d0eb68f423fa');\n",
       "var x = new MutationObserver(function (mutations, observer) {{\n",
       "        var display = window.getComputedStyle(gd).display;\n",
       "        if (!display || display === 'none') {{\n",
       "            console.log([gd, 'removed!']);\n",
       "            Plotly.purge(gd);\n",
       "            observer.disconnect();\n",
       "        }}\n",
       "}});\n",
       "\n",
       "// Listen for the removal of the full notebook cells\n",
       "var notebookContainer = gd.closest('#notebook-container');\n",
       "if (notebookContainer) {{\n",
       "    x.observe(notebookContainer, {childList: true});\n",
       "}}\n",
       "\n",
       "// Listen for the clearing of the current output cell\n",
       "var outputEl = gd.closest('.output');\n",
       "if (outputEl) {{\n",
       "    x.observe(outputEl, {childList: true});\n",
       "}}\n",
       "\n",
       "                        })\n",
       "                };\n",
       "                });\n",
       "            </script>\n",
       "        </div>"
      ]
     },
     "metadata": {},
     "output_type": "display_data"
    },
    {
     "data": {
      "application/vnd.plotly.v1+json": {
       "config": {
        "plotlyServerURL": "https://plot.ly"
       },
       "data": [
        {
         "type": "heatmap",
         "x": [
          "Sunday",
          "Monday",
          "Tuesday",
          "Wednesday",
          "Thursday",
          "Friday",
          "Saturday"
         ],
         "y": [
          0,
          1,
          2,
          3,
          4,
          5,
          6,
          7,
          8,
          9,
          10,
          11,
          12,
          13,
          14,
          15,
          16,
          17,
          18,
          19,
          20,
          21,
          22,
          23
         ],
         "z": [
          [
           476,
           199,
           156,
           163,
           178,
           223,
           458
          ],
          [
           352,
           113,
           85,
           106,
           106,
           129,
           329
          ],
          [
           269,
           86,
           71,
           69,
           79,
           79,
           205
          ],
          [
           136,
           34,
           23,
           31,
           37,
           45,
           110
          ],
          [
           67,
           33,
           39,
           31,
           46,
           31,
           65
          ],
          [
           117,
           90,
           91,
           97,
           85,
           89,
           75
          ],
          [
           195,
           261,
           325,
           400,
           366,
           314,
           194
          ],
          [
           581,
           853,
           1044,
           1121,
           1050,
           843,
           452
          ],
          [
           1186,
           1967,
           2310,
           2416,
           2336,
           2218,
           1146
          ],
          [
           2365,
           2047,
           1924,
           2018,
           2064,
           2234,
           2277
          ],
          [
           3587,
           2120,
           1745,
           1765,
           1782,
           2248,
           3684
          ],
          [
           4644,
           2336,
           2049,
           2031,
           2376,
           3060,
           5166
          ],
          [
           5350,
           2575,
           2169,
           2315,
           2471,
           3170,
           5929
          ],
          [
           5804,
           2685,
           2152,
           2281,
           2514,
           3302,
           6563
          ],
          [
           5611,
           2603,
           2095,
           2298,
           2482,
           3320,
           6601
          ],
          [
           5541,
           2629,
           2302,
           2405,
           2710,
           3517,
           6126
          ],
          [
           5092,
           2860,
           2836,
           2768,
           2955,
           3836,
           5804
          ],
          [
           3880,
           3165,
           3197,
           3373,
           3515,
           3849,
           4611
          ],
          [
           2789,
           2519,
           2800,
           2846,
           2815,
           2972,
           3453
          ],
          [
           1908,
           1579,
           1695,
           1717,
           1695,
           1942,
           2421
          ],
          [
           1197,
           1001,
           1130,
           1025,
           1106,
           1288,
           1593
          ],
          [
           800,
           796,
           849,
           752,
           864,
           1024,
           1157
          ],
          [
           530,
           525,
           673,
           610,
           698,
           973,
           976
          ],
          [
           314,
           276,
           397,
           350,
           378,
           651,
           724
          ]
         ]
        }
       ],
       "layout": {
        "height": 650,
        "template": {
         "data": {
          "bar": [
           {
            "error_x": {
             "color": "#2a3f5f"
            },
            "error_y": {
             "color": "#2a3f5f"
            },
            "marker": {
             "line": {
              "color": "#E5ECF6",
              "width": 0.5
             }
            },
            "type": "bar"
           }
          ],
          "barpolar": [
           {
            "marker": {
             "line": {
              "color": "#E5ECF6",
              "width": 0.5
             }
            },
            "type": "barpolar"
           }
          ],
          "carpet": [
           {
            "aaxis": {
             "endlinecolor": "#2a3f5f",
             "gridcolor": "white",
             "linecolor": "white",
             "minorgridcolor": "white",
             "startlinecolor": "#2a3f5f"
            },
            "baxis": {
             "endlinecolor": "#2a3f5f",
             "gridcolor": "white",
             "linecolor": "white",
             "minorgridcolor": "white",
             "startlinecolor": "#2a3f5f"
            },
            "type": "carpet"
           }
          ],
          "choropleth": [
           {
            "colorbar": {
             "outlinewidth": 0,
             "ticks": ""
            },
            "type": "choropleth"
           }
          ],
          "contour": [
           {
            "colorbar": {
             "outlinewidth": 0,
             "ticks": ""
            },
            "colorscale": [
             [
              0,
              "#0d0887"
             ],
             [
              0.1111111111111111,
              "#46039f"
             ],
             [
              0.2222222222222222,
              "#7201a8"
             ],
             [
              0.3333333333333333,
              "#9c179e"
             ],
             [
              0.4444444444444444,
              "#bd3786"
             ],
             [
              0.5555555555555556,
              "#d8576b"
             ],
             [
              0.6666666666666666,
              "#ed7953"
             ],
             [
              0.7777777777777778,
              "#fb9f3a"
             ],
             [
              0.8888888888888888,
              "#fdca26"
             ],
             [
              1,
              "#f0f921"
             ]
            ],
            "type": "contour"
           }
          ],
          "contourcarpet": [
           {
            "colorbar": {
             "outlinewidth": 0,
             "ticks": ""
            },
            "type": "contourcarpet"
           }
          ],
          "heatmap": [
           {
            "colorbar": {
             "outlinewidth": 0,
             "ticks": ""
            },
            "colorscale": [
             [
              0,
              "#0d0887"
             ],
             [
              0.1111111111111111,
              "#46039f"
             ],
             [
              0.2222222222222222,
              "#7201a8"
             ],
             [
              0.3333333333333333,
              "#9c179e"
             ],
             [
              0.4444444444444444,
              "#bd3786"
             ],
             [
              0.5555555555555556,
              "#d8576b"
             ],
             [
              0.6666666666666666,
              "#ed7953"
             ],
             [
              0.7777777777777778,
              "#fb9f3a"
             ],
             [
              0.8888888888888888,
              "#fdca26"
             ],
             [
              1,
              "#f0f921"
             ]
            ],
            "type": "heatmap"
           }
          ],
          "heatmapgl": [
           {
            "colorbar": {
             "outlinewidth": 0,
             "ticks": ""
            },
            "colorscale": [
             [
              0,
              "#0d0887"
             ],
             [
              0.1111111111111111,
              "#46039f"
             ],
             [
              0.2222222222222222,
              "#7201a8"
             ],
             [
              0.3333333333333333,
              "#9c179e"
             ],
             [
              0.4444444444444444,
              "#bd3786"
             ],
             [
              0.5555555555555556,
              "#d8576b"
             ],
             [
              0.6666666666666666,
              "#ed7953"
             ],
             [
              0.7777777777777778,
              "#fb9f3a"
             ],
             [
              0.8888888888888888,
              "#fdca26"
             ],
             [
              1,
              "#f0f921"
             ]
            ],
            "type": "heatmapgl"
           }
          ],
          "histogram": [
           {
            "marker": {
             "colorbar": {
              "outlinewidth": 0,
              "ticks": ""
             }
            },
            "type": "histogram"
           }
          ],
          "histogram2d": [
           {
            "colorbar": {
             "outlinewidth": 0,
             "ticks": ""
            },
            "colorscale": [
             [
              0,
              "#0d0887"
             ],
             [
              0.1111111111111111,
              "#46039f"
             ],
             [
              0.2222222222222222,
              "#7201a8"
             ],
             [
              0.3333333333333333,
              "#9c179e"
             ],
             [
              0.4444444444444444,
              "#bd3786"
             ],
             [
              0.5555555555555556,
              "#d8576b"
             ],
             [
              0.6666666666666666,
              "#ed7953"
             ],
             [
              0.7777777777777778,
              "#fb9f3a"
             ],
             [
              0.8888888888888888,
              "#fdca26"
             ],
             [
              1,
              "#f0f921"
             ]
            ],
            "type": "histogram2d"
           }
          ],
          "histogram2dcontour": [
           {
            "colorbar": {
             "outlinewidth": 0,
             "ticks": ""
            },
            "colorscale": [
             [
              0,
              "#0d0887"
             ],
             [
              0.1111111111111111,
              "#46039f"
             ],
             [
              0.2222222222222222,
              "#7201a8"
             ],
             [
              0.3333333333333333,
              "#9c179e"
             ],
             [
              0.4444444444444444,
              "#bd3786"
             ],
             [
              0.5555555555555556,
              "#d8576b"
             ],
             [
              0.6666666666666666,
              "#ed7953"
             ],
             [
              0.7777777777777778,
              "#fb9f3a"
             ],
             [
              0.8888888888888888,
              "#fdca26"
             ],
             [
              1,
              "#f0f921"
             ]
            ],
            "type": "histogram2dcontour"
           }
          ],
          "mesh3d": [
           {
            "colorbar": {
             "outlinewidth": 0,
             "ticks": ""
            },
            "type": "mesh3d"
           }
          ],
          "parcoords": [
           {
            "line": {
             "colorbar": {
              "outlinewidth": 0,
              "ticks": ""
             }
            },
            "type": "parcoords"
           }
          ],
          "scatter": [
           {
            "marker": {
             "colorbar": {
              "outlinewidth": 0,
              "ticks": ""
             }
            },
            "type": "scatter"
           }
          ],
          "scatter3d": [
           {
            "line": {
             "colorbar": {
              "outlinewidth": 0,
              "ticks": ""
             }
            },
            "marker": {
             "colorbar": {
              "outlinewidth": 0,
              "ticks": ""
             }
            },
            "type": "scatter3d"
           }
          ],
          "scattercarpet": [
           {
            "marker": {
             "colorbar": {
              "outlinewidth": 0,
              "ticks": ""
             }
            },
            "type": "scattercarpet"
           }
          ],
          "scattergeo": [
           {
            "marker": {
             "colorbar": {
              "outlinewidth": 0,
              "ticks": ""
             }
            },
            "type": "scattergeo"
           }
          ],
          "scattergl": [
           {
            "marker": {
             "colorbar": {
              "outlinewidth": 0,
              "ticks": ""
             }
            },
            "type": "scattergl"
           }
          ],
          "scattermapbox": [
           {
            "marker": {
             "colorbar": {
              "outlinewidth": 0,
              "ticks": ""
             }
            },
            "type": "scattermapbox"
           }
          ],
          "scatterpolar": [
           {
            "marker": {
             "colorbar": {
              "outlinewidth": 0,
              "ticks": ""
             }
            },
            "type": "scatterpolar"
           }
          ],
          "scatterpolargl": [
           {
            "marker": {
             "colorbar": {
              "outlinewidth": 0,
              "ticks": ""
             }
            },
            "type": "scatterpolargl"
           }
          ],
          "scatterternary": [
           {
            "marker": {
             "colorbar": {
              "outlinewidth": 0,
              "ticks": ""
             }
            },
            "type": "scatterternary"
           }
          ],
          "surface": [
           {
            "colorbar": {
             "outlinewidth": 0,
             "ticks": ""
            },
            "colorscale": [
             [
              0,
              "#0d0887"
             ],
             [
              0.1111111111111111,
              "#46039f"
             ],
             [
              0.2222222222222222,
              "#7201a8"
             ],
             [
              0.3333333333333333,
              "#9c179e"
             ],
             [
              0.4444444444444444,
              "#bd3786"
             ],
             [
              0.5555555555555556,
              "#d8576b"
             ],
             [
              0.6666666666666666,
              "#ed7953"
             ],
             [
              0.7777777777777778,
              "#fb9f3a"
             ],
             [
              0.8888888888888888,
              "#fdca26"
             ],
             [
              1,
              "#f0f921"
             ]
            ],
            "type": "surface"
           }
          ],
          "table": [
           {
            "cells": {
             "fill": {
              "color": "#EBF0F8"
             },
             "line": {
              "color": "white"
             }
            },
            "header": {
             "fill": {
              "color": "#C8D4E3"
             },
             "line": {
              "color": "white"
             }
            },
            "type": "table"
           }
          ]
         },
         "layout": {
          "annotationdefaults": {
           "arrowcolor": "#2a3f5f",
           "arrowhead": 0,
           "arrowwidth": 1
          },
          "colorscale": {
           "diverging": [
            [
             0,
             "#8e0152"
            ],
            [
             0.1,
             "#c51b7d"
            ],
            [
             0.2,
             "#de77ae"
            ],
            [
             0.3,
             "#f1b6da"
            ],
            [
             0.4,
             "#fde0ef"
            ],
            [
             0.5,
             "#f7f7f7"
            ],
            [
             0.6,
             "#e6f5d0"
            ],
            [
             0.7,
             "#b8e186"
            ],
            [
             0.8,
             "#7fbc41"
            ],
            [
             0.9,
             "#4d9221"
            ],
            [
             1,
             "#276419"
            ]
           ],
           "sequential": [
            [
             0,
             "#0d0887"
            ],
            [
             0.1111111111111111,
             "#46039f"
            ],
            [
             0.2222222222222222,
             "#7201a8"
            ],
            [
             0.3333333333333333,
             "#9c179e"
            ],
            [
             0.4444444444444444,
             "#bd3786"
            ],
            [
             0.5555555555555556,
             "#d8576b"
            ],
            [
             0.6666666666666666,
             "#ed7953"
            ],
            [
             0.7777777777777778,
             "#fb9f3a"
            ],
            [
             0.8888888888888888,
             "#fdca26"
            ],
            [
             1,
             "#f0f921"
            ]
           ],
           "sequentialminus": [
            [
             0,
             "#0d0887"
            ],
            [
             0.1111111111111111,
             "#46039f"
            ],
            [
             0.2222222222222222,
             "#7201a8"
            ],
            [
             0.3333333333333333,
             "#9c179e"
            ],
            [
             0.4444444444444444,
             "#bd3786"
            ],
            [
             0.5555555555555556,
             "#d8576b"
            ],
            [
             0.6666666666666666,
             "#ed7953"
            ],
            [
             0.7777777777777778,
             "#fb9f3a"
            ],
            [
             0.8888888888888888,
             "#fdca26"
            ],
            [
             1,
             "#f0f921"
            ]
           ]
          },
          "colorway": [
           "#636efa",
           "#EF553B",
           "#00cc96",
           "#ab63fa",
           "#FFA15A",
           "#19d3f3",
           "#FF6692",
           "#B6E880",
           "#FF97FF",
           "#FECB52"
          ],
          "font": {
           "color": "#2a3f5f"
          },
          "geo": {
           "bgcolor": "white",
           "lakecolor": "white",
           "landcolor": "#E5ECF6",
           "showlakes": true,
           "showland": true,
           "subunitcolor": "white"
          },
          "hoverlabel": {
           "align": "left"
          },
          "hovermode": "closest",
          "mapbox": {
           "style": "light"
          },
          "paper_bgcolor": "white",
          "plot_bgcolor": "#E5ECF6",
          "polar": {
           "angularaxis": {
            "gridcolor": "white",
            "linecolor": "white",
            "ticks": ""
           },
           "bgcolor": "#E5ECF6",
           "radialaxis": {
            "gridcolor": "white",
            "linecolor": "white",
            "ticks": ""
           }
          },
          "scene": {
           "xaxis": {
            "backgroundcolor": "#E5ECF6",
            "gridcolor": "white",
            "gridwidth": 2,
            "linecolor": "white",
            "showbackground": true,
            "ticks": "",
            "zerolinecolor": "white"
           },
           "yaxis": {
            "backgroundcolor": "#E5ECF6",
            "gridcolor": "white",
            "gridwidth": 2,
            "linecolor": "white",
            "showbackground": true,
            "ticks": "",
            "zerolinecolor": "white"
           },
           "zaxis": {
            "backgroundcolor": "#E5ECF6",
            "gridcolor": "white",
            "gridwidth": 2,
            "linecolor": "white",
            "showbackground": true,
            "ticks": "",
            "zerolinecolor": "white"
           }
          },
          "shapedefaults": {
           "line": {
            "color": "#2a3f5f"
           }
          },
          "ternary": {
           "aaxis": {
            "gridcolor": "white",
            "linecolor": "white",
            "ticks": ""
           },
           "baxis": {
            "gridcolor": "white",
            "linecolor": "white",
            "ticks": ""
           },
           "bgcolor": "#E5ECF6",
           "caxis": {
            "gridcolor": "white",
            "linecolor": "white",
            "ticks": ""
           }
          },
          "title": {
           "x": 0.05
          },
          "xaxis": {
           "automargin": true,
           "gridcolor": "white",
           "linecolor": "white",
           "ticks": "",
           "zerolinecolor": "white",
           "zerolinewidth": 2
          },
          "yaxis": {
           "automargin": true,
           "gridcolor": "white",
           "linecolor": "white",
           "ticks": "",
           "zerolinecolor": "white",
           "zerolinewidth": 2
          }
         }
        },
        "title": {
         "font": {
          "size": 20
         },
         "text": "Number of Non-Subscriber Trips by Day of Week and Time of Day"
        },
        "xaxis": {
         "tickfont": {
          "size": 12
         },
         "title": {
          "text": "Day of Week"
         },
         "type": "category"
        },
        "yaxis": {
         "tickfont": {
          "size": 12
         },
         "title": {
          "text": "Hour of Day"
         },
         "type": "category"
        }
       }
      },
      "text/html": [
       "<div>\n",
       "        \n",
       "        \n",
       "            <div id=\"5d010283-9dc6-4c0b-aa42-384d19a8c19f\" class=\"plotly-graph-div\" style=\"height:650px; width:100%;\"></div>\n",
       "            <script type=\"text/javascript\">\n",
       "                require([\"plotly\"], function(Plotly) {\n",
       "                    window.PLOTLYENV=window.PLOTLYENV || {};\n",
       "                    \n",
       "                if (document.getElementById(\"5d010283-9dc6-4c0b-aa42-384d19a8c19f\")) {\n",
       "                    Plotly.newPlot(\n",
       "                        '5d010283-9dc6-4c0b-aa42-384d19a8c19f',\n",
       "                        [{\"type\": \"heatmap\", \"x\": [\"Sunday\", \"Monday\", \"Tuesday\", \"Wednesday\", \"Thursday\", \"Friday\", \"Saturday\"], \"y\": [0, 1, 2, 3, 4, 5, 6, 7, 8, 9, 10, 11, 12, 13, 14, 15, 16, 17, 18, 19, 20, 21, 22, 23], \"z\": [[476, 199, 156, 163, 178, 223, 458], [352, 113, 85, 106, 106, 129, 329], [269, 86, 71, 69, 79, 79, 205], [136, 34, 23, 31, 37, 45, 110], [67, 33, 39, 31, 46, 31, 65], [117, 90, 91, 97, 85, 89, 75], [195, 261, 325, 400, 366, 314, 194], [581, 853, 1044, 1121, 1050, 843, 452], [1186, 1967, 2310, 2416, 2336, 2218, 1146], [2365, 2047, 1924, 2018, 2064, 2234, 2277], [3587, 2120, 1745, 1765, 1782, 2248, 3684], [4644, 2336, 2049, 2031, 2376, 3060, 5166], [5350, 2575, 2169, 2315, 2471, 3170, 5929], [5804, 2685, 2152, 2281, 2514, 3302, 6563], [5611, 2603, 2095, 2298, 2482, 3320, 6601], [5541, 2629, 2302, 2405, 2710, 3517, 6126], [5092, 2860, 2836, 2768, 2955, 3836, 5804], [3880, 3165, 3197, 3373, 3515, 3849, 4611], [2789, 2519, 2800, 2846, 2815, 2972, 3453], [1908, 1579, 1695, 1717, 1695, 1942, 2421], [1197, 1001, 1130, 1025, 1106, 1288, 1593], [800, 796, 849, 752, 864, 1024, 1157], [530, 525, 673, 610, 698, 973, 976], [314, 276, 397, 350, 378, 651, 724]]}],\n",
       "                        {\"height\": 650, \"template\": {\"data\": {\"bar\": [{\"error_x\": {\"color\": \"#2a3f5f\"}, \"error_y\": {\"color\": \"#2a3f5f\"}, \"marker\": {\"line\": {\"color\": \"#E5ECF6\", \"width\": 0.5}}, \"type\": \"bar\"}], \"barpolar\": [{\"marker\": {\"line\": {\"color\": \"#E5ECF6\", \"width\": 0.5}}, \"type\": \"barpolar\"}], \"carpet\": [{\"aaxis\": {\"endlinecolor\": \"#2a3f5f\", \"gridcolor\": \"white\", \"linecolor\": \"white\", \"minorgridcolor\": \"white\", \"startlinecolor\": \"#2a3f5f\"}, \"baxis\": {\"endlinecolor\": \"#2a3f5f\", \"gridcolor\": \"white\", \"linecolor\": \"white\", \"minorgridcolor\": \"white\", \"startlinecolor\": \"#2a3f5f\"}, \"type\": \"carpet\"}], \"choropleth\": [{\"colorbar\": {\"outlinewidth\": 0, \"ticks\": \"\"}, \"type\": \"choropleth\"}], \"contour\": [{\"colorbar\": {\"outlinewidth\": 0, \"ticks\": \"\"}, \"colorscale\": [[0.0, \"#0d0887\"], [0.1111111111111111, \"#46039f\"], [0.2222222222222222, \"#7201a8\"], [0.3333333333333333, \"#9c179e\"], [0.4444444444444444, \"#bd3786\"], [0.5555555555555556, \"#d8576b\"], [0.6666666666666666, \"#ed7953\"], [0.7777777777777778, \"#fb9f3a\"], [0.8888888888888888, \"#fdca26\"], [1.0, \"#f0f921\"]], \"type\": \"contour\"}], \"contourcarpet\": [{\"colorbar\": {\"outlinewidth\": 0, \"ticks\": \"\"}, \"type\": \"contourcarpet\"}], \"heatmap\": [{\"colorbar\": {\"outlinewidth\": 0, \"ticks\": \"\"}, \"colorscale\": [[0.0, \"#0d0887\"], [0.1111111111111111, \"#46039f\"], [0.2222222222222222, \"#7201a8\"], [0.3333333333333333, \"#9c179e\"], [0.4444444444444444, \"#bd3786\"], [0.5555555555555556, \"#d8576b\"], [0.6666666666666666, \"#ed7953\"], [0.7777777777777778, \"#fb9f3a\"], [0.8888888888888888, \"#fdca26\"], [1.0, \"#f0f921\"]], \"type\": \"heatmap\"}], \"heatmapgl\": [{\"colorbar\": {\"outlinewidth\": 0, \"ticks\": \"\"}, \"colorscale\": [[0.0, \"#0d0887\"], [0.1111111111111111, \"#46039f\"], [0.2222222222222222, \"#7201a8\"], [0.3333333333333333, \"#9c179e\"], [0.4444444444444444, \"#bd3786\"], [0.5555555555555556, \"#d8576b\"], [0.6666666666666666, \"#ed7953\"], [0.7777777777777778, \"#fb9f3a\"], [0.8888888888888888, \"#fdca26\"], [1.0, \"#f0f921\"]], \"type\": \"heatmapgl\"}], \"histogram\": [{\"marker\": {\"colorbar\": {\"outlinewidth\": 0, \"ticks\": \"\"}}, \"type\": \"histogram\"}], \"histogram2d\": [{\"colorbar\": {\"outlinewidth\": 0, \"ticks\": \"\"}, \"colorscale\": [[0.0, \"#0d0887\"], [0.1111111111111111, \"#46039f\"], [0.2222222222222222, \"#7201a8\"], [0.3333333333333333, \"#9c179e\"], [0.4444444444444444, \"#bd3786\"], [0.5555555555555556, \"#d8576b\"], [0.6666666666666666, \"#ed7953\"], [0.7777777777777778, \"#fb9f3a\"], [0.8888888888888888, \"#fdca26\"], [1.0, \"#f0f921\"]], \"type\": \"histogram2d\"}], \"histogram2dcontour\": [{\"colorbar\": {\"outlinewidth\": 0, \"ticks\": \"\"}, \"colorscale\": [[0.0, \"#0d0887\"], [0.1111111111111111, \"#46039f\"], [0.2222222222222222, \"#7201a8\"], [0.3333333333333333, \"#9c179e\"], [0.4444444444444444, \"#bd3786\"], [0.5555555555555556, \"#d8576b\"], [0.6666666666666666, \"#ed7953\"], [0.7777777777777778, \"#fb9f3a\"], [0.8888888888888888, \"#fdca26\"], [1.0, \"#f0f921\"]], \"type\": \"histogram2dcontour\"}], \"mesh3d\": [{\"colorbar\": {\"outlinewidth\": 0, \"ticks\": \"\"}, \"type\": \"mesh3d\"}], \"parcoords\": [{\"line\": {\"colorbar\": {\"outlinewidth\": 0, \"ticks\": \"\"}}, \"type\": \"parcoords\"}], \"scatter\": [{\"marker\": {\"colorbar\": {\"outlinewidth\": 0, \"ticks\": \"\"}}, \"type\": \"scatter\"}], \"scatter3d\": [{\"line\": {\"colorbar\": {\"outlinewidth\": 0, \"ticks\": \"\"}}, \"marker\": {\"colorbar\": {\"outlinewidth\": 0, \"ticks\": \"\"}}, \"type\": \"scatter3d\"}], \"scattercarpet\": [{\"marker\": {\"colorbar\": {\"outlinewidth\": 0, \"ticks\": \"\"}}, \"type\": \"scattercarpet\"}], \"scattergeo\": [{\"marker\": {\"colorbar\": {\"outlinewidth\": 0, \"ticks\": \"\"}}, \"type\": \"scattergeo\"}], \"scattergl\": [{\"marker\": {\"colorbar\": {\"outlinewidth\": 0, \"ticks\": \"\"}}, \"type\": \"scattergl\"}], \"scattermapbox\": [{\"marker\": {\"colorbar\": {\"outlinewidth\": 0, \"ticks\": \"\"}}, \"type\": \"scattermapbox\"}], \"scatterpolar\": [{\"marker\": {\"colorbar\": {\"outlinewidth\": 0, \"ticks\": \"\"}}, \"type\": \"scatterpolar\"}], \"scatterpolargl\": [{\"marker\": {\"colorbar\": {\"outlinewidth\": 0, \"ticks\": \"\"}}, \"type\": \"scatterpolargl\"}], \"scatterternary\": [{\"marker\": {\"colorbar\": {\"outlinewidth\": 0, \"ticks\": \"\"}}, \"type\": \"scatterternary\"}], \"surface\": [{\"colorbar\": {\"outlinewidth\": 0, \"ticks\": \"\"}, \"colorscale\": [[0.0, \"#0d0887\"], [0.1111111111111111, \"#46039f\"], [0.2222222222222222, \"#7201a8\"], [0.3333333333333333, \"#9c179e\"], [0.4444444444444444, \"#bd3786\"], [0.5555555555555556, \"#d8576b\"], [0.6666666666666666, \"#ed7953\"], [0.7777777777777778, \"#fb9f3a\"], [0.8888888888888888, \"#fdca26\"], [1.0, \"#f0f921\"]], \"type\": \"surface\"}], \"table\": [{\"cells\": {\"fill\": {\"color\": \"#EBF0F8\"}, \"line\": {\"color\": \"white\"}}, \"header\": {\"fill\": {\"color\": \"#C8D4E3\"}, \"line\": {\"color\": \"white\"}}, \"type\": \"table\"}]}, \"layout\": {\"annotationdefaults\": {\"arrowcolor\": \"#2a3f5f\", \"arrowhead\": 0, \"arrowwidth\": 1}, \"colorscale\": {\"diverging\": [[0, \"#8e0152\"], [0.1, \"#c51b7d\"], [0.2, \"#de77ae\"], [0.3, \"#f1b6da\"], [0.4, \"#fde0ef\"], [0.5, \"#f7f7f7\"], [0.6, \"#e6f5d0\"], [0.7, \"#b8e186\"], [0.8, \"#7fbc41\"], [0.9, \"#4d9221\"], [1, \"#276419\"]], \"sequential\": [[0.0, \"#0d0887\"], [0.1111111111111111, \"#46039f\"], [0.2222222222222222, \"#7201a8\"], [0.3333333333333333, \"#9c179e\"], [0.4444444444444444, \"#bd3786\"], [0.5555555555555556, \"#d8576b\"], [0.6666666666666666, \"#ed7953\"], [0.7777777777777778, \"#fb9f3a\"], [0.8888888888888888, \"#fdca26\"], [1.0, \"#f0f921\"]], \"sequentialminus\": [[0.0, \"#0d0887\"], [0.1111111111111111, \"#46039f\"], [0.2222222222222222, \"#7201a8\"], [0.3333333333333333, \"#9c179e\"], [0.4444444444444444, \"#bd3786\"], [0.5555555555555556, \"#d8576b\"], [0.6666666666666666, \"#ed7953\"], [0.7777777777777778, \"#fb9f3a\"], [0.8888888888888888, \"#fdca26\"], [1.0, \"#f0f921\"]]}, \"colorway\": [\"#636efa\", \"#EF553B\", \"#00cc96\", \"#ab63fa\", \"#FFA15A\", \"#19d3f3\", \"#FF6692\", \"#B6E880\", \"#FF97FF\", \"#FECB52\"], \"font\": {\"color\": \"#2a3f5f\"}, \"geo\": {\"bgcolor\": \"white\", \"lakecolor\": \"white\", \"landcolor\": \"#E5ECF6\", \"showlakes\": true, \"showland\": true, \"subunitcolor\": \"white\"}, \"hoverlabel\": {\"align\": \"left\"}, \"hovermode\": \"closest\", \"mapbox\": {\"style\": \"light\"}, \"paper_bgcolor\": \"white\", \"plot_bgcolor\": \"#E5ECF6\", \"polar\": {\"angularaxis\": {\"gridcolor\": \"white\", \"linecolor\": \"white\", \"ticks\": \"\"}, \"bgcolor\": \"#E5ECF6\", \"radialaxis\": {\"gridcolor\": \"white\", \"linecolor\": \"white\", \"ticks\": \"\"}}, \"scene\": {\"xaxis\": {\"backgroundcolor\": \"#E5ECF6\", \"gridcolor\": \"white\", \"gridwidth\": 2, \"linecolor\": \"white\", \"showbackground\": true, \"ticks\": \"\", \"zerolinecolor\": \"white\"}, \"yaxis\": {\"backgroundcolor\": \"#E5ECF6\", \"gridcolor\": \"white\", \"gridwidth\": 2, \"linecolor\": \"white\", \"showbackground\": true, \"ticks\": \"\", \"zerolinecolor\": \"white\"}, \"zaxis\": {\"backgroundcolor\": \"#E5ECF6\", \"gridcolor\": \"white\", \"gridwidth\": 2, \"linecolor\": \"white\", \"showbackground\": true, \"ticks\": \"\", \"zerolinecolor\": \"white\"}}, \"shapedefaults\": {\"line\": {\"color\": \"#2a3f5f\"}}, \"ternary\": {\"aaxis\": {\"gridcolor\": \"white\", \"linecolor\": \"white\", \"ticks\": \"\"}, \"baxis\": {\"gridcolor\": \"white\", \"linecolor\": \"white\", \"ticks\": \"\"}, \"bgcolor\": \"#E5ECF6\", \"caxis\": {\"gridcolor\": \"white\", \"linecolor\": \"white\", \"ticks\": \"\"}}, \"title\": {\"x\": 0.05}, \"xaxis\": {\"automargin\": true, \"gridcolor\": \"white\", \"linecolor\": \"white\", \"ticks\": \"\", \"zerolinecolor\": \"white\", \"zerolinewidth\": 2}, \"yaxis\": {\"automargin\": true, \"gridcolor\": \"white\", \"linecolor\": \"white\", \"ticks\": \"\", \"zerolinecolor\": \"white\", \"zerolinewidth\": 2}}}, \"title\": {\"font\": {\"size\": 20}, \"text\": \"Number of Non-Subscriber Trips by Day of Week and Time of Day\"}, \"xaxis\": {\"tickfont\": {\"size\": 12}, \"title\": {\"text\": \"Day of Week\"}, \"type\": \"category\"}, \"yaxis\": {\"tickfont\": {\"size\": 12}, \"title\": {\"text\": \"Hour of Day\"}, \"type\": \"category\"}},\n",
       "                        {\"responsive\": true}\n",
       "                    ).then(function(){\n",
       "                            \n",
       "var gd = document.getElementById('5d010283-9dc6-4c0b-aa42-384d19a8c19f');\n",
       "var x = new MutationObserver(function (mutations, observer) {{\n",
       "        var display = window.getComputedStyle(gd).display;\n",
       "        if (!display || display === 'none') {{\n",
       "            console.log([gd, 'removed!']);\n",
       "            Plotly.purge(gd);\n",
       "            observer.disconnect();\n",
       "        }}\n",
       "}});\n",
       "\n",
       "// Listen for the removal of the full notebook cells\n",
       "var notebookContainer = gd.closest('#notebook-container');\n",
       "if (notebookContainer) {{\n",
       "    x.observe(notebookContainer, {childList: true});\n",
       "}}\n",
       "\n",
       "// Listen for the clearing of the current output cell\n",
       "var outputEl = gd.closest('.output');\n",
       "if (outputEl) {{\n",
       "    x.observe(outputEl, {childList: true});\n",
       "}}\n",
       "\n",
       "                        })\n",
       "                };\n",
       "                });\n",
       "            </script>\n",
       "        </div>"
      ]
     },
     "metadata": {},
     "output_type": "display_data"
    }
   ],
   "source": [
    "data = [trips_dow_sub, trips_dow_cus]\n",
    "title = [\n",
    "    'Number of {} Trips by Day of Week and Time of Day'.format(i) for i in (\n",
    "        'Subscriber', 'Non-Subscriber'\n",
    "    )\n",
    "]\n",
    "\n",
    "chart_data = zip(data, title)\n",
    "\n",
    "for item in chart_data:\n",
    "    \n",
    "    fig = {\n",
    "        \"data\": [{\"type\": \"heatmap\",\n",
    "                  \"x\": item[0].columns,\n",
    "                  \"y\": item[0].index,\n",
    "                  \"z\": item[0].values.tolist(),\n",
    "                 }],\n",
    "        \"layout\": {\"title\": {\"text\": item[1], \"font_size\": 20},\n",
    "                   \"xaxis\": {\"title\": \"Day of Week\",\n",
    "                             \"tickfont_size\": 12, \n",
    "                             \"type\": \"category\"},\n",
    "                   \"yaxis\": {\"title\": \"Hour of Day\",  \n",
    "                             \"tickfont_size\": 12,\n",
    "                             \"type\": \"category\"},\n",
    "                   \"height\": 650\n",
    "                  }\n",
    "    }\n",
    "\n",
    "    \n",
    "    pio.show(fig)"
   ]
  },
  {
   "cell_type": "markdown",
   "metadata": {},
   "source": [
    "### Number of trips over time\n",
    "Let's use a window function to obtain average daily trips, calculated over **a window including preceding 15 days and following 15 days** from 4/1/2014 to 4/30/2018"
   ]
  },
  {
   "cell_type": "code",
   "execution_count": 15,
   "metadata": {},
   "outputs": [],
   "source": [
    "avg_num_trips_query_before = \"\"\"\n",
    "        WITH daily_trips AS\n",
    "        (\n",
    "            SELECT\n",
    "                DATE(start_date) AS trip_date,\n",
    "                COUNT(*) AS num_trips\n",
    "            FROM\n",
    "                `bigquery-public-data.san_francisco_bikeshare.bikeshare_trips`\n",
    "            WHERE\n",
    "                start_date >= '2014-04-01' \n",
    "                AND start_date < '2018-04-30'\n",
    "            GROUP BY\n",
    "                trip_date\n",
    "        )\n",
    "        SELECT\n",
    "            trip_date,\n",
    "            AVG(num_trips) OVER(\n",
    "                                ORDER BY trip_date\n",
    "                                ROWS BETWEEN 15 PRECEDING AND 15 FOLLOWING\n",
    "                                ) AS avg_num_trips\n",
    "        FROM\n",
    "            daily_trips\n",
    "        \"\"\"\n",
    "\n",
    "\n",
    "avg_num_trips_query_after = \"\"\"\n",
    "        WITH daily_trips AS\n",
    "        (\n",
    "            SELECT\n",
    "                DATE(start_date) AS trip_date,\n",
    "                COUNT(*) AS num_trips\n",
    "            FROM\n",
    "                `bigquery-public-data.san_francisco_bikeshare.bikeshare_trips`\n",
    "            WHERE\n",
    "                start_date >= '2017-06-28' \n",
    "            GROUP BY\n",
    "                trip_date\n",
    "        )\n",
    "        SELECT\n",
    "            trip_date,\n",
    "            AVG(num_trips) OVER(\n",
    "                                ORDER BY trip_date\n",
    "                                ROWS BETWEEN 15 PRECEDING AND 15 FOLLOWING\n",
    "                                ) AS avg_num_trips\n",
    "        FROM\n",
    "            daily_trips\n",
    "        \"\"\"\n",
    "\n",
    "avg_num_trips_before = client.query(avg_num_trips_query_before).result().to_dataframe()\n",
    "avg_num_trips_after = client.query(avg_num_trips_query_after).result().to_dataframe()"
   ]
  },
  {
   "cell_type": "markdown",
   "metadata": {},
   "source": [
    "- Aside from the missing timestamps, we can see the typical holiday dips and weekday/weekend variations"
   ]
  },
  {
   "cell_type": "code",
   "execution_count": 16,
   "metadata": {},
   "outputs": [
    {
     "data": {
      "image/png": "[encoded data removed]",
      "text/plain": [
       "<matplotlib.figure.Figure at 0x1a1da81fd0>"
      ]
     },
     "metadata": {},
     "output_type": "display_data"
    },
    {
     "data": {
      "image/png": "[encoded data removed]",
      "text/plain": [
       "<matplotlib.figure.Figure at 0x1a23c2ec50>"
      ]
     },
     "metadata": {},
     "output_type": "display_data"
    }
   ],
   "source": [
    "data = [avg_num_trips_before, avg_num_trips_after]\n",
    "title = ['Daily Trips{}- Rolling Average'.format(i) for i in (' ', ' (6/28/2017 - 4/30/2018) ')]\n",
    "\n",
    "plot_data = zip(data, title)\n",
    "\n",
    "for item in plot_data:\n",
    "    \n",
    "    ax = item[0].set_index('trip_date').plot(\n",
    "        kind='line', \n",
    "        rot=0, \n",
    "        figsize=(14, 6), \n",
    "        color=['orangered']\n",
    "    )\n",
    "\n",
    "    ax.set_title(item[1], fontsize=14)\n",
    "    ax.set_ylabel('Number of Trips')\n",
    "    ax.set_xlabel(' ')\n",
    "    ax.get_legend().remove()\n",
    "\n",
    "    fmt = '{x:,.0f}'\n",
    "    ax.yaxis.set_major_formatter(mtick.StrMethodFormatter(fmt))\n",
    "\n",
    "    for tick in ax.yaxis.get_major_ticks():\n",
    "        tick.label.set_fontsize(12)\n",
    "    for tick in ax.xaxis.get_major_ticks():\n",
    "        tick.label.set_fontsize(12)\n",
    "\n",
    "pass"
   ]
  },
  {
   "cell_type": "markdown",
   "metadata": {},
   "source": [
    "### Trip Duration - How long were the trips? \n",
    "- Hmmm..did pricing back then really make sense?"
   ]
  },
  {
   "cell_type": "markdown",
   "metadata": {},
   "source": [
    "#### Trips less than 30 mins\n",
    "Prepare a table showing user type, number of trips less than 30 mins, and percentage share of those trips\n",
    "- most subscriber trips were under 30 mins"
   ]
  },
  {
   "cell_type": "code",
   "execution_count": 17,
   "metadata": {},
   "outputs": [
    {
     "data": {
      "text/html": [
       "<div>\n",
       "<style scoped>\n",
       "    .dataframe tbody tr th:only-of-type {\n",
       "        vertical-align: middle;\n",
       "    }\n",
       "\n",
       "    .dataframe tbody tr th {\n",
       "        vertical-align: top;\n",
       "    }\n",
       "\n",
       "    .dataframe thead th {\n",
       "        text-align: right;\n",
       "    }\n",
       "</style>\n",
       "<table border=\"1\" class=\"dataframe\">\n",
       "  <thead>\n",
       "    <tr style=\"text-align: right;\">\n",
       "      <th></th>\n",
       "      <th>user_type</th>\n",
       "      <th>total_trips</th>\n",
       "      <th>percentage_share</th>\n",
       "    </tr>\n",
       "  </thead>\n",
       "  <tbody>\n",
       "    <tr>\n",
       "      <th>0</th>\n",
       "      <td>Customer</td>\n",
       "      <td>134853</td>\n",
       "      <td>0.769876</td>\n",
       "    </tr>\n",
       "    <tr>\n",
       "      <th>1</th>\n",
       "      <td>Subscriber</td>\n",
       "      <td>772086</td>\n",
       "      <td>0.979048</td>\n",
       "    </tr>\n",
       "  </tbody>\n",
       "</table>\n",
       "</div>"
      ],
      "text/plain": [
       "    user_type  total_trips  percentage_share\n",
       "0    Customer       134853          0.769876\n",
       "1  Subscriber       772086          0.979048"
      ]
     },
     "execution_count": 17,
     "metadata": {},
     "output_type": "execute_result"
    }
   ],
   "source": [
    "trip_duration_30_query = \"\"\"\n",
    "                         SELECT\n",
    "                             subscriber_type AS user_type,\n",
    "                             COUNT(*) AS total_trips,\n",
    "                             COUNT(*)/(\n",
    "                                      SELECT\n",
    "                                          COUNT(*)\n",
    "                                      FROM\n",
    "                                          `bigquery-public-data.san_francisco_bikeshare.bikeshare_trips`\n",
    "                                      WHERE\n",
    "                                          subscriber_type = CASE WHEN t.subscriber_type = 'Customer'\n",
    "                                                            THEN 'Customer'\n",
    "                                                            ELSE 'Subscriber'\n",
    "                                                            END\n",
    "                                          AND start_date >= '2017-06-28'\n",
    "                                      ) AS percentage_share\n",
    "                          FROM\n",
    "                              `bigquery-public-data.san_francisco_bikeshare.bikeshare_trips` t\n",
    "                          WHERE\n",
    "                              (duration_sec)/60 <= 30\n",
    "                              AND start_date >= '2017-06-28'\n",
    "                          GROUP BY\n",
    "                              1\n",
    "                          \"\"\"\n",
    "\n",
    "trip_duration_30 = client.query(trip_duration_30_query).result().to_dataframe()\n",
    "trip_duration_30.head()"
   ]
  },
  {
   "cell_type": "markdown",
   "metadata": {},
   "source": [
    "#### Trips less than 15 mins\n",
    "Prepare a table showing user type, number of trips less than 15 mins, and percentage share of those trips"
   ]
  },
  {
   "cell_type": "code",
   "execution_count": 18,
   "metadata": {},
   "outputs": [
    {
     "data": {
      "text/html": [
       "<div>\n",
       "<style scoped>\n",
       "    .dataframe tbody tr th:only-of-type {\n",
       "        vertical-align: middle;\n",
       "    }\n",
       "\n",
       "    .dataframe tbody tr th {\n",
       "        vertical-align: top;\n",
       "    }\n",
       "\n",
       "    .dataframe thead th {\n",
       "        text-align: right;\n",
       "    }\n",
       "</style>\n",
       "<table border=\"1\" class=\"dataframe\">\n",
       "  <thead>\n",
       "    <tr style=\"text-align: right;\">\n",
       "      <th></th>\n",
       "      <th>user_type</th>\n",
       "      <th>total_trips</th>\n",
       "      <th>percentage_share</th>\n",
       "    </tr>\n",
       "  </thead>\n",
       "  <tbody>\n",
       "    <tr>\n",
       "      <th>0</th>\n",
       "      <td>Subscriber</td>\n",
       "      <td>650912</td>\n",
       "      <td>0.825393</td>\n",
       "    </tr>\n",
       "    <tr>\n",
       "      <th>1</th>\n",
       "      <td>Customer</td>\n",
       "      <td>72244</td>\n",
       "      <td>0.412441</td>\n",
       "    </tr>\n",
       "  </tbody>\n",
       "</table>\n",
       "</div>"
      ],
      "text/plain": [
       "    user_type  total_trips  percentage_share\n",
       "0  Subscriber       650912          0.825393\n",
       "1    Customer        72244          0.412441"
      ]
     },
     "execution_count": 18,
     "metadata": {},
     "output_type": "execute_result"
    }
   ],
   "source": [
    "trip_duration_15_query = \"\"\"\n",
    "                         SELECT\n",
    "                             subscriber_type AS user_type,\n",
    "                             COUNT(*) AS total_trips,\n",
    "                             COUNT(*)/(\n",
    "                                      SELECT\n",
    "                                          COUNT(*)\n",
    "                                      FROM\n",
    "                                          `bigquery-public-data.san_francisco_bikeshare.bikeshare_trips`\n",
    "                                      WHERE\n",
    "                                          subscriber_type = CASE WHEN t.subscriber_type = 'Customer'\n",
    "                                                            THEN 'Customer'\n",
    "                                                            ELSE 'Subscriber'\n",
    "                                                            END\n",
    "                                          AND start_date >= '2017-06-28'\n",
    "                                      ) AS percentage_share\n",
    "                          FROM\n",
    "                              `bigquery-public-data.san_francisco_bikeshare.bikeshare_trips` t\n",
    "                          WHERE\n",
    "                              (duration_sec)/60 <= 15\n",
    "                              AND start_date >= '2017-06-28'\n",
    "                          GROUP BY\n",
    "                              1\n",
    "                          \"\"\"\n",
    "\n",
    "trip_duration_15 = client.query(trip_duration_15_query).result().to_dataframe()\n",
    "trip_duration_15.head()"
   ]
  },
  {
   "cell_type": "markdown",
   "metadata": {},
   "source": [
    "#### How long is the longest trip?\n",
    "- Great, the longest trip is almost 200 days long - most likely a data glitch"
   ]
  },
  {
   "cell_type": "code",
   "execution_count": 19,
   "metadata": {},
   "outputs": [
    {
     "data": {
      "text/html": [
       "<div>\n",
       "<style scoped>\n",
       "    .dataframe tbody tr th:only-of-type {\n",
       "        vertical-align: middle;\n",
       "    }\n",
       "\n",
       "    .dataframe tbody tr th {\n",
       "        vertical-align: top;\n",
       "    }\n",
       "\n",
       "    .dataframe thead th {\n",
       "        text-align: right;\n",
       "    }\n",
       "</style>\n",
       "<table border=\"1\" class=\"dataframe\">\n",
       "  <thead>\n",
       "    <tr style=\"text-align: right;\">\n",
       "      <th></th>\n",
       "      <th>start_date</th>\n",
       "      <th>end_date</th>\n",
       "      <th>subscriber_type</th>\n",
       "      <th>start_station_name</th>\n",
       "      <th>end_station_name</th>\n",
       "      <th>num_days</th>\n",
       "    </tr>\n",
       "  </thead>\n",
       "  <tbody>\n",
       "    <tr>\n",
       "      <th>0</th>\n",
       "      <td>2014-12-06 21:59:00+00:00</td>\n",
       "      <td>2015-06-24 20:18:00+00:00</td>\n",
       "      <td>Customer</td>\n",
       "      <td>South Van Ness at Market</td>\n",
       "      <td>2nd at Folsom</td>\n",
       "      <td>199.888889</td>\n",
       "    </tr>\n",
       "    <tr>\n",
       "      <th>1</th>\n",
       "      <td>2015-06-28 21:50:00+00:00</td>\n",
       "      <td>2015-07-23 15:27:00+00:00</td>\n",
       "      <td>Customer</td>\n",
       "      <td>Market at Sansome</td>\n",
       "      <td>Yerba Buena Center of the Arts (3rd @ Howard)</td>\n",
       "      <td>24.733796</td>\n",
       "    </tr>\n",
       "    <tr>\n",
       "      <th>2</th>\n",
       "      <td>2015-05-02 06:17:00+00:00</td>\n",
       "      <td>2015-05-23 16:53:00+00:00</td>\n",
       "      <td>Subscriber</td>\n",
       "      <td>San Antonio Shopping Center</td>\n",
       "      <td>Castro Street and El Camino Real</td>\n",
       "      <td>21.442014</td>\n",
       "    </tr>\n",
       "    <tr>\n",
       "      <th>3</th>\n",
       "      <td>2015-07-10 10:35:00+00:00</td>\n",
       "      <td>2015-07-23 13:27:00+00:00</td>\n",
       "      <td>Customer</td>\n",
       "      <td>University and Emerson</td>\n",
       "      <td>University and Emerson</td>\n",
       "      <td>13.119676</td>\n",
       "    </tr>\n",
       "    <tr>\n",
       "      <th>4</th>\n",
       "      <td>2013-11-30 13:29:00+00:00</td>\n",
       "      <td>2013-12-08 22:06:00+00:00</td>\n",
       "      <td>Customer</td>\n",
       "      <td>University and Emerson</td>\n",
       "      <td>University and Emerson</td>\n",
       "      <td>8.359213</td>\n",
       "    </tr>\n",
       "  </tbody>\n",
       "</table>\n",
       "</div>"
      ],
      "text/plain": [
       "                 start_date                  end_date subscriber_type  \\\n",
       "0 2014-12-06 21:59:00+00:00 2015-06-24 20:18:00+00:00        Customer   \n",
       "1 2015-06-28 21:50:00+00:00 2015-07-23 15:27:00+00:00        Customer   \n",
       "2 2015-05-02 06:17:00+00:00 2015-05-23 16:53:00+00:00      Subscriber   \n",
       "3 2015-07-10 10:35:00+00:00 2015-07-23 13:27:00+00:00        Customer   \n",
       "4 2013-11-30 13:29:00+00:00 2013-12-08 22:06:00+00:00        Customer   \n",
       "\n",
       "            start_station_name                               end_station_name  \\\n",
       "0     South Van Ness at Market                                  2nd at Folsom   \n",
       "1            Market at Sansome  Yerba Buena Center of the Arts (3rd @ Howard)   \n",
       "2  San Antonio Shopping Center               Castro Street and El Camino Real   \n",
       "3       University and Emerson                         University and Emerson   \n",
       "4       University and Emerson                         University and Emerson   \n",
       "\n",
       "     num_days  \n",
       "0  199.888889  \n",
       "1   24.733796  \n",
       "2   21.442014  \n",
       "3   13.119676  \n",
       "4    8.359213  "
      ]
     },
     "execution_count": 19,
     "metadata": {},
     "output_type": "execute_result"
    }
   ],
   "source": [
    "longest_trip_query = \"\"\"\n",
    "                     SELECT\n",
    "                         start_date,\n",
    "                         end_date,\n",
    "                         subscriber_type,\n",
    "                         start_station_name,\n",
    "                         end_station_name,\n",
    "                         duration_sec/60/60/24 AS num_days\n",
    "                     FROM\n",
    "                         `bigquery-public-data.san_francisco_bikeshare.bikeshare_trips`\n",
    "                     ORDER BY\n",
    "                         6 DESC\n",
    "                     LIMIT 5\n",
    "                     \"\"\"\n",
    "\n",
    "longest_trip = client.query(longest_trip_query).result().to_dataframe()\n",
    "longest_trip"
   ]
  },
  {
   "cell_type": "markdown",
   "metadata": {},
   "source": [
    "#### Average trip length for subscribers and non-subscribers\n",
    "- Since extreme outliers like the above exit in the dataset, let's take the average of trip length by subscriber type, **excluding the shortest and longest 1%**!"
   ]
  },
  {
   "cell_type": "code",
   "execution_count": 20,
   "metadata": {},
   "outputs": [
    {
     "data": {
      "text/html": [
       "<div>\n",
       "<style scoped>\n",
       "    .dataframe tbody tr th:only-of-type {\n",
       "        vertical-align: middle;\n",
       "    }\n",
       "\n",
       "    .dataframe tbody tr th {\n",
       "        vertical-align: top;\n",
       "    }\n",
       "\n",
       "    .dataframe thead th {\n",
       "        text-align: right;\n",
       "    }\n",
       "</style>\n",
       "<table border=\"1\" class=\"dataframe\">\n",
       "  <thead>\n",
       "    <tr style=\"text-align: right;\">\n",
       "      <th></th>\n",
       "      <th>user_type</th>\n",
       "      <th>avg_trip_mins</th>\n",
       "      <th>min_trip_mins</th>\n",
       "      <th>max_trip_mins</th>\n",
       "    </tr>\n",
       "  </thead>\n",
       "  <tbody>\n",
       "    <tr>\n",
       "      <th>0</th>\n",
       "      <td>Customer</td>\n",
       "      <td>32.364985</td>\n",
       "      <td>2.883333</td>\n",
       "      <td>461.750000</td>\n",
       "    </tr>\n",
       "    <tr>\n",
       "      <th>1</th>\n",
       "      <td>Subscriber</td>\n",
       "      <td>10.038876</td>\n",
       "      <td>1.916667</td>\n",
       "      <td>40.316667</td>\n",
       "    </tr>\n",
       "  </tbody>\n",
       "</table>\n",
       "</div>"
      ],
      "text/plain": [
       "    user_type  avg_trip_mins  min_trip_mins  max_trip_mins\n",
       "0    Customer      32.364985       2.883333     461.750000\n",
       "1  Subscriber      10.038876       1.916667      40.316667"
      ]
     },
     "execution_count": 20,
     "metadata": {},
     "output_type": "execute_result"
    }
   ],
   "source": [
    "avg_trip_length_query = \"\"\"\n",
    "                      WITH percentile10 AS \n",
    "                      (\n",
    "                          SELECT\n",
    "                              DISTINCT subscriber_type,\n",
    "                              PERCENTILE_CONT(duration_sec, 0.01) OVER(PARTITION BY subscriber_type) AS percentile\n",
    "                          FROM\n",
    "                              `bigquery-public-data.san_francisco_bikeshare.bikeshare_trips`\n",
    "                          WHERE\n",
    "                              start_date > '2017-06-28'\n",
    "                      ),\n",
    "                      percentile90 AS\n",
    "                      (\n",
    "                          SELECT\n",
    "                              DISTINCT subscriber_type,\n",
    "                              PERCENTILE_CONT(duration_sec, 0.99) OVER(PARTITION BY subscriber_type) AS percentile\n",
    "                          FROM\n",
    "                              `bigquery-public-data.san_francisco_bikeshare.bikeshare_trips`\n",
    "                          WHERE\n",
    "                              start_date > '2017-06-28'\n",
    "                      )\n",
    "                      SELECT\n",
    "                          t.subscriber_type AS user_type,\n",
    "                          AVG(duration_sec)/60 AS avg_trip_mins,\n",
    "                          MIN(duration_sec)/60 AS min_trip_mins,\n",
    "                          MAX(duration_sec)/60 AS max_trip_mins\n",
    "                      FROM\n",
    "                          `bigquery-public-data.san_francisco_bikeshare.bikeshare_trips` t\n",
    "                          LEFT JOIN percentile10 p1 \n",
    "                          ON p1.subscriber_type = t.subscriber_type\n",
    "                          LEFT JOIN percentile90 p99\n",
    "                          ON p99.subscriber_type = t.subscriber_type\n",
    "                      WHERE\n",
    "                          start_date > '2017-06-28'\n",
    "                          AND t.duration_sec > p1.percentile\n",
    "                          AND t.duration_sec < p99.percentile\n",
    "                      GROUP BY\n",
    "                          user_type\n",
    "                      \"\"\"\n",
    "avg_trip_length = client.query(avg_trip_length_query).result().to_dataframe()\n",
    "avg_trip_length"
   ]
  },
  {
   "cell_type": "markdown",
   "metadata": {},
   "source": [
    "#### How about average trip duration by hour at a particular origin station?\n",
    "- In this example, I will use data from 3/6/2018 to 3/8/2018 (Tuesday to Thursday)"
   ]
  },
  {
   "cell_type": "code",
   "execution_count": 26,
   "metadata": {},
   "outputs": [
    {
     "data": {
      "image/png": "[encoded data removed]",
      "text/plain": [
       "<matplotlib.figure.Figure at 0x1a23c4bfd0>"
      ]
     },
     "metadata": {},
     "output_type": "display_data"
    }
   ],
   "source": [
    "duration_sta_query = \"\"\"\n",
    "                     SELECT\n",
    "                        EXTRACT(HOUR FROM start_date) AS hour_of_day,\n",
    "                        AVG(duration_sec/60) AS avg_trip_length_mins\n",
    "                     FROM\n",
    "                        `bigquery-public-data.san_francisco_bikeshare.bikeshare_trips`\n",
    "                     WHERE\n",
    "                        start_date >= '2018-03-06'\n",
    "                        AND start_date <= '2018-03-08'\n",
    "                        AND start_station_name = 'Lake Merritt BART Station'\n",
    "                     GROUP BY\n",
    "                        hour_of_day\n",
    "                     ORDER BY\n",
    "                        hour_of_day              \n",
    "                     \"\"\"\n",
    "\n",
    "safe_config = bigquery.QueryJobConfig(maximum_bytes_billed=10**10)      \n",
    "duration_sta = client.query(duration_sta_query, job_config=safe_config).to_dataframe()\n",
    "\n",
    "ax = duration_sta.plot(\n",
    "    kind='line', \n",
    "    x = 'hour_of_day',\n",
    "    y = 'avg_trip_length_mins',\n",
    "    label = 'Average Trip Length',\n",
    "    rot=0, \n",
    "    figsize=(14,6), \n",
    "    color=['navy']\n",
    ")\n",
    "\n",
    "ax.set_title('Average Trip Length by Hour at Lake Merritt BART Station', fontsize=14)\n",
    "ax.set_ylabel('Number of Trips')\n",
    "ax.set_xlabel('\\n Hour of Day')\n",
    "\n",
    "for tick in ax.yaxis.get_major_ticks():\n",
    "    tick.label.set_fontsize(12)\n",
    "for tick in ax.xaxis.get_major_ticks():\n",
    "    tick.label.set_fontsize(12)\n",
    "pass"
   ]
  },
  {
   "cell_type": "markdown",
   "metadata": {},
   "source": [
    "### Most popular commuter trips (after 6/27/2017)\n",
    "Prepare a table showing popular commute trips with origin-destination pairs\n",
    "- trips with at most 30-min duration\n",
    "- trips with different origin/destination locations"
   ]
  },
  {
   "cell_type": "code",
   "execution_count": 27,
   "metadata": {},
   "outputs": [
    {
     "data": {
      "text/html": [
       "<div>\n",
       "<style scoped>\n",
       "    .dataframe tbody tr th:only-of-type {\n",
       "        vertical-align: middle;\n",
       "    }\n",
       "\n",
       "    .dataframe tbody tr th {\n",
       "        vertical-align: top;\n",
       "    }\n",
       "\n",
       "    .dataframe thead th {\n",
       "        text-align: right;\n",
       "    }\n",
       "</style>\n",
       "<table border=\"1\" class=\"dataframe\">\n",
       "  <thead>\n",
       "    <tr style=\"text-align: right;\">\n",
       "      <th></th>\n",
       "      <th>start_station_name</th>\n",
       "      <th>end_station_name</th>\n",
       "      <th>num_trips</th>\n",
       "      <th>origin_lat</th>\n",
       "      <th>origin_lon</th>\n",
       "      <th>destination_lat</th>\n",
       "      <th>destination_lon</th>\n",
       "    </tr>\n",
       "  </thead>\n",
       "  <tbody>\n",
       "    <tr>\n",
       "      <th>0</th>\n",
       "      <td>San Francisco Ferry Building (Harry Bridges Pl...</td>\n",
       "      <td>The Embarcadero at Sansome St</td>\n",
       "      <td>4679</td>\n",
       "      <td>37.795392</td>\n",
       "      <td>-122.394203</td>\n",
       "      <td>37.804770</td>\n",
       "      <td>-122.403234</td>\n",
       "    </tr>\n",
       "    <tr>\n",
       "      <th>1</th>\n",
       "      <td>The Embarcadero at Sansome St</td>\n",
       "      <td>Steuart St at Market St</td>\n",
       "      <td>3074</td>\n",
       "      <td>37.804770</td>\n",
       "      <td>-122.403234</td>\n",
       "      <td>37.794130</td>\n",
       "      <td>-122.394430</td>\n",
       "    </tr>\n",
       "    <tr>\n",
       "      <th>2</th>\n",
       "      <td>Berry St at 4th St</td>\n",
       "      <td>San Francisco Ferry Building (Harry Bridges Pl...</td>\n",
       "      <td>2998</td>\n",
       "      <td>37.775880</td>\n",
       "      <td>-122.393170</td>\n",
       "      <td>37.795392</td>\n",
       "      <td>-122.394203</td>\n",
       "    </tr>\n",
       "    <tr>\n",
       "      <th>3</th>\n",
       "      <td>The Embarcadero at Sansome St</td>\n",
       "      <td>San Francisco Ferry Building (Harry Bridges Pl...</td>\n",
       "      <td>2621</td>\n",
       "      <td>37.804770</td>\n",
       "      <td>-122.403234</td>\n",
       "      <td>37.795392</td>\n",
       "      <td>-122.394203</td>\n",
       "    </tr>\n",
       "    <tr>\n",
       "      <th>4</th>\n",
       "      <td>San Francisco Ferry Building (Harry Bridges Pl...</td>\n",
       "      <td>Berry St at 4th St</td>\n",
       "      <td>2484</td>\n",
       "      <td>37.795392</td>\n",
       "      <td>-122.394203</td>\n",
       "      <td>37.775880</td>\n",
       "      <td>-122.393170</td>\n",
       "    </tr>\n",
       "    <tr>\n",
       "      <th>5</th>\n",
       "      <td>19th Street BART Station</td>\n",
       "      <td>Grand Ave at Perkins St</td>\n",
       "      <td>2341</td>\n",
       "      <td>37.809013</td>\n",
       "      <td>-122.268247</td>\n",
       "      <td>37.808894</td>\n",
       "      <td>-122.256460</td>\n",
       "    </tr>\n",
       "    <tr>\n",
       "      <th>6</th>\n",
       "      <td>Steuart St at Market St</td>\n",
       "      <td>The Embarcadero at Sansome St</td>\n",
       "      <td>2149</td>\n",
       "      <td>37.794130</td>\n",
       "      <td>-122.394430</td>\n",
       "      <td>37.804770</td>\n",
       "      <td>-122.403234</td>\n",
       "    </tr>\n",
       "    <tr>\n",
       "      <th>7</th>\n",
       "      <td>Grand Ave at Perkins St</td>\n",
       "      <td>19th Street BART Station</td>\n",
       "      <td>2063</td>\n",
       "      <td>37.808894</td>\n",
       "      <td>-122.256460</td>\n",
       "      <td>37.809013</td>\n",
       "      <td>-122.268247</td>\n",
       "    </tr>\n",
       "    <tr>\n",
       "      <th>8</th>\n",
       "      <td>Market St at 10th St</td>\n",
       "      <td>San Francisco Caltrain Station 2  (Townsend St...</td>\n",
       "      <td>2015</td>\n",
       "      <td>37.776619</td>\n",
       "      <td>-122.417385</td>\n",
       "      <td>NaN</td>\n",
       "      <td>NaN</td>\n",
       "    </tr>\n",
       "    <tr>\n",
       "      <th>9</th>\n",
       "      <td>Bay Pl at Vernon St</td>\n",
       "      <td>19th Street BART Station</td>\n",
       "      <td>1960</td>\n",
       "      <td>37.812314</td>\n",
       "      <td>-122.260779</td>\n",
       "      <td>37.809013</td>\n",
       "      <td>-122.268247</td>\n",
       "    </tr>\n",
       "  </tbody>\n",
       "</table>\n",
       "</div>"
      ],
      "text/plain": [
       "                                  start_station_name  \\\n",
       "0  San Francisco Ferry Building (Harry Bridges Pl...   \n",
       "1                      The Embarcadero at Sansome St   \n",
       "2                                 Berry St at 4th St   \n",
       "3                      The Embarcadero at Sansome St   \n",
       "4  San Francisco Ferry Building (Harry Bridges Pl...   \n",
       "5                           19th Street BART Station   \n",
       "6                            Steuart St at Market St   \n",
       "7                            Grand Ave at Perkins St   \n",
       "8                               Market St at 10th St   \n",
       "9                                Bay Pl at Vernon St   \n",
       "\n",
       "                                    end_station_name  num_trips  origin_lat  \\\n",
       "0                      The Embarcadero at Sansome St       4679   37.795392   \n",
       "1                            Steuart St at Market St       3074   37.804770   \n",
       "2  San Francisco Ferry Building (Harry Bridges Pl...       2998   37.775880   \n",
       "3  San Francisco Ferry Building (Harry Bridges Pl...       2621   37.804770   \n",
       "4                                 Berry St at 4th St       2484   37.795392   \n",
       "5                            Grand Ave at Perkins St       2341   37.809013   \n",
       "6                      The Embarcadero at Sansome St       2149   37.794130   \n",
       "7                           19th Street BART Station       2063   37.808894   \n",
       "8  San Francisco Caltrain Station 2  (Townsend St...       2015   37.776619   \n",
       "9                           19th Street BART Station       1960   37.812314   \n",
       "\n",
       "   origin_lon  destination_lat  destination_lon  \n",
       "0 -122.394203        37.804770      -122.403234  \n",
       "1 -122.403234        37.794130      -122.394430  \n",
       "2 -122.393170        37.795392      -122.394203  \n",
       "3 -122.403234        37.795392      -122.394203  \n",
       "4 -122.394203        37.775880      -122.393170  \n",
       "5 -122.268247        37.808894      -122.256460  \n",
       "6 -122.394430        37.804770      -122.403234  \n",
       "7 -122.256460        37.809013      -122.268247  \n",
       "8 -122.417385              NaN              NaN  \n",
       "9 -122.260779        37.809013      -122.268247  "
      ]
     },
     "execution_count": 27,
     "metadata": {},
     "output_type": "execute_result"
    }
   ],
   "source": [
    "trip_route_query = \"\"\"\n",
    "                   SELECT\n",
    "                       start_station_name,\n",
    "                       end_station_name,\n",
    "                       COUNT(*) AS num_trips,\n",
    "                       o.lat AS origin_lat,\n",
    "                       o.lon AS origin_lon,\n",
    "                       d.lat AS destination_lat,\n",
    "                       d.lon AS destination_lon\n",
    "                   FROM\n",
    "                       `bigquery-public-data.san_francisco_bikeshare.bikeshare_trips` t\n",
    "                       LEFT JOIN `bigquery-public-data.san_francisco_bikeshare.bikeshare_station_info` o\n",
    "                       ON t.start_station_id = o.station_id\n",
    "                       LEFT JOIN `bigquery-public-data.san_francisco_bikeshare.bikeshare_station_info` d\n",
    "                       ON t.end_station_id = d.station_id\n",
    "                   WHERE\n",
    "                       duration_sec/60 <= 30\n",
    "                       AND start_date >= '2017-06-28'\n",
    "                       AND start_station_id <> end_station_id\n",
    "                   GROUP BY\n",
    "                       1, 2, 4, 5, 6, 7\n",
    "                   ORDER BY\n",
    "                       num_trips DESC\n",
    "                   \"\"\"\n",
    "trip_route = client.query(trip_route_query).result().to_dataframe()\n",
    "trip_route.head(10)"
   ]
  },
  {
   "cell_type": "code",
   "execution_count": 119,
   "metadata": {},
   "outputs": [
    {
     "data": {
      "text/html": [
       "<div class='tableauPlaceholder' id='viz1568476670821' style='position: relative'><noscript><a href='#'><img alt=' ' src='https:&#47;&#47;public.tableau.com&#47;static&#47;images&#47;KX&#47;KXBNWPRG5&#47;1_rss.png' style='border: none' /></a></noscript><object class='tableauViz'  style='display:none;'><param name='host_url' value='https%3A%2F%2Fpublic.tableau.com%2F' /> <param name='embed_code_version' value='3' /> <param name='path' value='shared&#47;KXBNWPRG5' /> <param name='toolbar' value='yes' /><param name='static_image' value='https:&#47;&#47;public.tableau.com&#47;static&#47;images&#47;KX&#47;KXBNWPRG5&#47;1.png' /> <param name='animate_transition' value='yes' /><param name='display_static_image' value='yes' /><param name='display_spinner' value='yes' /><param name='display_overlay' value='yes' /><param name='display_count' value='yes' /></object></div>                <script type='text/javascript'>                    var divElement = document.getElementById('viz1568476670821');                    var vizElement = divElement.getElementsByTagName('object')[0];                    if ( divElement.offsetWidth > 800 ) { vizElement.style.width='800px';vizElement.style.height='827px';} else if ( divElement.offsetWidth > 500 ) { vizElement.style.width='800px';vizElement.style.height='827px';} else { vizElement.style.width='100%';vizElement.style.height='1127px';}                     var scriptElement = document.createElement('script');                    scriptElement.src = 'https://public.tableau.com/javascripts/api/viz_v1.js';                    vizElement.parentNode.insertBefore(scriptElement, vizElement);                </script>\n"
      ],
      "text/plain": [
       "<IPython.core.display.HTML object>"
      ]
     },
     "metadata": {},
     "output_type": "display_data"
    }
   ],
   "source": [
    "%%HTML\n",
    "# embed link"
   ]
  },
  {
   "cell_type": "markdown",
   "metadata": {},
   "source": [
    "#### What are the new stations across years? "
   ]
  },
  {
   "cell_type": "code",
   "execution_count": 29,
   "metadata": {},
   "outputs": [],
   "source": [
    "sta_2013_query = \"\"\"\n",
    "                 SELECT\n",
    "                   DISTINCT(start_station_name)\n",
    "                 FROM\n",
    "                   `bigquery-public-data.san_francisco_bikeshare.bikeshare_trips`\n",
    "                 WHERE\n",
    "                   EXTRACT(YEAR FROM start_date) = 2013\n",
    "                 \"\"\"\n",
    "sta_2015_query = \"\"\"\n",
    "                 SELECT\n",
    "                   DISTINCT(start_station_name)\n",
    "                 FROM\n",
    "                   `bigquery-public-data.san_francisco_bikeshare.bikeshare_trips`\n",
    "                 WHERE\n",
    "                   EXTRACT(YEAR FROM start_date) = 2015\n",
    "                 \"\"\"\n",
    "sta_2018_query = \"\"\"\n",
    "                 SELECT\n",
    "                   DISTINCT(start_station_name)\n",
    "                 FROM\n",
    "                   `bigquery-public-data.san_francisco_bikeshare.bikeshare_trips`\n",
    "                 WHERE\n",
    "                   EXTRACT(YEAR FROM start_date) = 2018\n",
    "                 \"\"\"\n",
    "sta_2013 = client.query(sta_2013_query).result().to_dataframe()\n",
    "sta_2015 = client.query(sta_2015_query).result().to_dataframe()\n",
    "sta_2018 = client.query(sta_2018_query).result().to_dataframe()\n",
    "\n",
    "sta_15_13 = set(sta_2015['start_station_name']) - set(sta_2013['start_station_name'])\n",
    "sta_18_15 = set(sta_2018['start_station_name']) - set(sta_2015['start_station_name'])"
   ]
  },
  {
   "cell_type": "code",
   "execution_count": 30,
   "metadata": {
    "scrolled": true
   },
   "outputs": [
    {
     "name": "stdout",
     "output_type": "stream",
     "text": [
      "New stations in 2015 but not in 2013 are: {'Castro Street and El Camino Real', 'Ryland Park', 'Washington at Kearny', 'Mezes', 'San Antonio Shopping Center', 'Kaiser Hospital', 'Stanford in Redwood City', 'Post at Kearny', 'Middlefield Light Rail Station', 'Santa Clara County Civic Center', 'Broadway St at Battery St', 'Mezes Park', 'Sequoia Hospital', 'Charleston Park/ North Bayshore Area'}\n",
      "------------------------------\n",
      "New stations in 2018 but not in 2015 are: {'Franklin Square', 'Empire St at 1st St', '53rd St at Hollis St', '37th St at West St', '32nd St at Adeline St', '13th St at Franklin St', 'San Fernando St at 4th St', 'SAP Center', 'Laguna St at Hayes St', '2nd St at S Park St', 'Union Square (Powell St at Post St)', '11th St at Natoma St', 'Stanford Ave at Hollis St', 'Mission Playground', '30th St at San Jose Ave', 'Mission St at 1st St', 'Harmon St at Adeline St', 'Steuart St at Market St', 'Broadway at Battery St', 'North Berkeley BART Station', 'Grand Ave at Santa Clara Ave', 'Morrison Ave at Julian St', '10th Ave at E 15th St', 'Potrero Ave and Mariposa St', '26th Ave at International Blvd', 'Clay St at Battery St', '2nd St at Folsom St', 'Yerba Buena Center for the Arts (Howard St at 3rd St)', 'Woolsey St at Sacramento St', '14th St at Mandela Pkwy', 'Julian St at 6th St', 'MacArthur Blvd at Telegraph Ave', 'College Ave at Bryant Ave', 'Webster St at 2nd St', 'Townsend St at 7th St', 'Folsom St at 3rd St', '49th St at Telegraph Ave', '55th St at Telegraph Ave', 'Telegraph Ave at 23rd St', '17th St at Dolores St', 'Folsom St at 15th St', '2nd St at Townsend St', 'Shattuck Ave at Telegraph Ave', 'The Embarcadero at Vallejo St', 'Virginia St at Shattuck Ave', 'Telegraph Ave at Alcatraz Ave', '4th St at Mission Bay Blvd S', 'Broadway at Kearny', 'San Francisco City Hall (Polk St at Grove St)', 'Howard St at 8th St', 'Telegraph Ave at 27th St', '20th St at Bryant St', 'San Fernando at 7th St', '5th St at Brannan St', 'Berkeley Civic Center', 'San Pablo Park', 'Vine St at Shattuck Ave', 'Jackson St at 5th St', 'The Embarcadero at Bryant St', 'San Francisco Caltrain Station 2  (Townsend St at 4th St)', '12th St at 4th Ave', 'Division St at Potrero Ave', 'Valencia St at 24th St', 'Washington St at 8th St', 'Foothill Blvd at 42nd Ave', 'San Jose Diridon Station', 'Washington St at Kearny St', '10th St at Fallon St', 'Shattuck Ave at 55th Ave', '16th St Mission BART Station 2', 'Golden Gate Ave at Polk St', 'Market St at 45th St', 'Mechanics Monument Plaza (Market St at Bush St)', 'Fruitvale BART Station', 'Franklin St at 9th St', '4th St at Harrison St', 'Rockridge BART Station', 'Ellsworth St at Russell St', 'Pierce St at Haight St', 'Lakeshore Ave at Trestle Glen Rd', 'Commercial St at Montgomery St', '19th St at Florida St', '21st Ave at International Blvd', 'Genoa St at 55th St', 'Spear St at Folsom St', 'Garfield Square (25th St at Harrison St)', 'Cahill Park', 'Rhode Island St at 17th St', 'San Carlos St at Market St', 'Frank H Ogawa Plaza', 'San Antonio Park', \"O'Farrell St at Divisadero St\", '47th St at San Pablo Ave', '8th St at Ringold St', 'Market St at Brockhurst St', 'Jackson St at 11th St', '14th St at Filbert St', 'Dolores St at 15th St', 'Tamien Station', '5th St at San Salvador St', 'San Francisco Caltrain (Townsend St at 4th St)', 'Addison St at Fourth St', 'West Oakland BART Station', '5th St at Howard St', 'Paseo De San Antonio at 2nd St', 'Bryant St at 6th St', 'Market St at Park St', 'McCoppin St at Valencia St', '5th St at Virginia St', '29th St at Church St', '17th & Folsom Street Park (17th St at Folsom St)', 'Bestor Art Park', 'Snow Park', 'George St at 1st St', '22nd St Caltrain Station', 'Beale St at Harrison St', '12th St at 6th Ave', 'Santa Clara St at Almaden Blvd', 'Channing Way at Shattuck Ave', 'Telegraph Ave at 58th St', 'Oregon St at Adeline St', '34th St at Telegraph Ave', 'Golden Gate Ave at Hyde St', 'Union St at 10th St', 'Isabella St at San Pablo Ave', 'Bancroft Way at College Ave', 'Sanchez St at 15th St', '18th St at Noe St', '23rd Ave at Foothill Blvd', 'San Carlos St at 11th St', 'Valencia St at Cesar Chavez St', 'Shafter Ave at Cavour St', 'Hubbell St at 16th St', 'College Ave at Alcatraz Ave', 'San Salvador St at 1st St', 'Montgomery St BART Station (Market St at 2nd St)', 'Palm St at Willow St', 'Pierce Ave at Market St', 'Bushrod Park', 'MacArthur BART Station', '24th St at Chattanooga St', '19th St at Mission St', 'Howard St at 2nd St', 'Grand Ave at Webster St', '7th St at Brannan St', 'Grove St at Divisadero', 'Valencia St at 22nd St', 'Embarcadero BART Station (Beale St at Market St)', 'Marston Campbell Park', 'McAllister St at Baker St', 'The Alameda at Bush St', 'DeFremery Park', 'Ashby BART Station', '65th St at Hollis St', '14th St at Mission St', 'Fountain Alley at S 2nd St', 'MLK Jr Way at 14th St', '19th Street BART Station', \"Webster St at O'Farrell St\", 'Broadway at Coronado Ave', 'W St John St at Guadalupe River Trail', 'Fulton St at Ashby Ave', 'Victoria Manalo Draves Park', 'Cyril Magnin St at Ellis St', '5th at Folsom', 'Hearst Ave at Euclid Ave', 'Irwin St at 8th St', 'Saint James Park', 'Telegraph Ave at 19th St', '17th St at Valencia St', 'William St at 10th St', 'Father Alfred E Boeddeker Park', 'Jersey St at Church St', 'Harrison St at 17th St', 'San Bruno Ave at 16th St', 'Jersey St at Castro St', 'Bay Pl at Vernon St', 'Almaden Blvd at San Fernando St', 'Webster St at 19th St', 'Foothill Blvd at Harrington Ave', 'Market St at 8th St', 'Howard St at Beale St', 'S Park St at 3rd St', 'Broderick St at Oak St', 'Locust St at Grant St', '9th St at San Fernando', 'Fruitvale Ave at International Blvd', 'Duboce Park', '16th St Depot', 'Powell St BART Station (Market St at 4th St)', 'Willow St at Vine St', '45th St at Manila', 'Post St at Kearny St', '45th St at MLK Jr Way', 'Folsom St at 9th St', 'Market St at Franklin St', 'College Ave at Taft Ave', 'Colin P Kelly Jr St at Townsend St (Temporary Site)', 'Townsend St at 5th St', 'Broadway at 30th St', 'Esprit Park', 'Valencia St at 21st St', 'Ninth St at Parker St', 'Derby St at College Ave', 'Delmas Ave and San Fernando St', 'Autumn Parkway at Coleman Ave', 'Church St at Duboce Ave', 'Ninth St at Heinz Ave', 'Foothill Blvd at Fruitvale Ave', 'San Salvador St at 9th St', 'Berry St at 4th St', 'Russell St at College Ave', 'Bryant St at 15th St', 'Cesar Chavez St at Dolores St', 'Mississippi St at 17th St', 'Sanchez St at 17th St', 'West St at 40th St', 'University Ave at Oxford St', 'Mosswood Park', '2nd Ave at E 18th St', 'Market St at 10th St', 'S. 4th St at San Carlos St', 'MLK Jr Way at University Ave', 'Broadway at 40th St', 'Market St at 40th St', 'Alcatraz Ave at Shattuck Ave', 'Downtown Berkeley BART', 'Lake Merritt BART Station', 'San Pablo Ave at 27th St', 'California St at University Ave', '1st St at Folsom St', 'Shattuck Ave at Hearst Ave', 'Parker St at Fulton St', '29th St at Tiffany Ave', 'Valencia St at 16th St', 'Webster St at Grove St', 'Folsom St at 19th St', 'El Embarcadero at Grand Ave', 'Doyle St at 59th St', 'Almaden Blvd at Balbach St', 'Central Ave at Fell St', '16th St at Prosper St', 'Shattuck Ave at 51st St', 'Bryant St at 2nd St', 'Harrison St at 20th St', 'Mission Dolores Park', 'Koshland Park', 'Laguna St at McAllister St', 'Telegraph Ave at Carleton St', '27th St at MLK Jr Way', 'College Ave at Harwood Ave', 'Bancroft Way at Telegraph Ave', '16th St Mission BART', 'Milvia St at Derby St', 'Adeline St at 40th St', 'Civic Center/UN Plaza BART Station (Market St at McAllister St)', 'San Pablo Ave at MLK Jr Way', 'Scott St at Golden Gate Ave', '3rd St at Townsend St', 'Emeryville Public Market', 'Horton St at 40th St', 'Dover St at 57th St', 'Channing Way at San Pablo Ave', 'Santa Clara St at 7th St', 'Powell St BART Station (Market St at 5th St)', 'Lakeside Dr at 14th St', 'The Embarcadero at Sansome St', '5th St at Taylor St', 'S Van Ness Ave at Market St', 'Precita Park', 'Fulton St at Bancroft Way', 'Market St at Dolores St', 'Emeryville Town Hall', '11th St at Bryant St', 'Haste St at Telegraph Ave', 'Telegraph Ave at Ashby Ave', 'Jackson Playground', '24th St at Market St', 'San Francisco Public Library (Grove St at Hyde St)', 'Jack London Square', 'Grand Ave at Perkins St', '59th St at Horton St', 'San Pedro St at Hedding St', 'The Embarcadero at Steuart St', 'Raymond Kimbell Playground', 'Julian St at The Alameda', 'Page St at Scott St', 'San Francisco Ferry Building (Harry Bridges Plaza)', 'Davis St at Jackson St', 'Oak St at 1st St', 'Eureka Valley Recreation Center'}\n"
     ]
    }
   ],
   "source": [
    "print(\"New stations in 2015 but not in 2013 are: {}\".format(sta_15_13))\n",
    "print(\"-\"*30)\n",
    "print(\"New stations in 2018 but not in 2015 are: {}\".format(sta_18_15))"
   ]
  },
  {
   "cell_type": "markdown",
   "metadata": {},
   "source": [
    "#### What if we want to track the starting and ending stations for bikes on a particular day?\n",
    "- Let's track each bike's starting and ending locations on March 07, 2016"
   ]
  },
  {
   "cell_type": "code",
   "execution_count": 31,
   "metadata": {},
   "outputs": [
    {
     "data": {
      "text/html": [
       "<div>\n",
       "<style scoped>\n",
       "    .dataframe tbody tr th:only-of-type {\n",
       "        vertical-align: middle;\n",
       "    }\n",
       "\n",
       "    .dataframe tbody tr th {\n",
       "        vertical-align: top;\n",
       "    }\n",
       "\n",
       "    .dataframe thead th {\n",
       "        text-align: right;\n",
       "    }\n",
       "</style>\n",
       "<table border=\"1\" class=\"dataframe\">\n",
       "  <thead>\n",
       "    <tr style=\"text-align: right;\">\n",
       "      <th></th>\n",
       "      <th>bike_number</th>\n",
       "      <th>first_station</th>\n",
       "      <th>last_station</th>\n",
       "    </tr>\n",
       "  </thead>\n",
       "  <tbody>\n",
       "    <tr>\n",
       "      <th>0</th>\n",
       "      <td>12</td>\n",
       "      <td>Castro Street and El Camino Real</td>\n",
       "      <td>Mountain View Caltrain Station</td>\n",
       "    </tr>\n",
       "    <tr>\n",
       "      <th>1</th>\n",
       "      <td>15</td>\n",
       "      <td>Santa Clara at Almaden</td>\n",
       "      <td>Japantown</td>\n",
       "    </tr>\n",
       "    <tr>\n",
       "      <th>2</th>\n",
       "      <td>16</td>\n",
       "      <td>Broadway St at Battery St</td>\n",
       "      <td>Market at Sansome</td>\n",
       "    </tr>\n",
       "    <tr>\n",
       "      <th>3</th>\n",
       "      <td>25</td>\n",
       "      <td>Spear at Folsom</td>\n",
       "      <td>Temporary Transbay Terminal (Howard at Beale)</td>\n",
       "    </tr>\n",
       "    <tr>\n",
       "      <th>4</th>\n",
       "      <td>29</td>\n",
       "      <td>San Francisco City Hall</td>\n",
       "      <td>Powell Street BART</td>\n",
       "    </tr>\n",
       "    <tr>\n",
       "      <th>5</th>\n",
       "      <td>31</td>\n",
       "      <td>Palo Alto Caltrain Station</td>\n",
       "      <td>Palo Alto Caltrain Station</td>\n",
       "    </tr>\n",
       "    <tr>\n",
       "      <th>6</th>\n",
       "      <td>32</td>\n",
       "      <td>University and Emerson</td>\n",
       "      <td>Park at Olive</td>\n",
       "    </tr>\n",
       "    <tr>\n",
       "      <th>7</th>\n",
       "      <td>33</td>\n",
       "      <td>Golden Gate at Polk</td>\n",
       "      <td>Davis at Jackson</td>\n",
       "    </tr>\n",
       "    <tr>\n",
       "      <th>8</th>\n",
       "      <td>43</td>\n",
       "      <td>Paseo de San Antonio</td>\n",
       "      <td>San Jose Diridon Caltrain Station</td>\n",
       "    </tr>\n",
       "    <tr>\n",
       "      <th>9</th>\n",
       "      <td>55</td>\n",
       "      <td>San Francisco Caltrain (Townsend at 4th)</td>\n",
       "      <td>Grant Avenue at Columbus Avenue</td>\n",
       "    </tr>\n",
       "  </tbody>\n",
       "</table>\n",
       "</div>"
      ],
      "text/plain": [
       "   bike_number                             first_station  \\\n",
       "0           12          Castro Street and El Camino Real   \n",
       "1           15                    Santa Clara at Almaden   \n",
       "2           16                 Broadway St at Battery St   \n",
       "3           25                           Spear at Folsom   \n",
       "4           29                   San Francisco City Hall   \n",
       "5           31                Palo Alto Caltrain Station   \n",
       "6           32                    University and Emerson   \n",
       "7           33                       Golden Gate at Polk   \n",
       "8           43                      Paseo de San Antonio   \n",
       "9           55  San Francisco Caltrain (Townsend at 4th)   \n",
       "\n",
       "                                    last_station  \n",
       "0                 Mountain View Caltrain Station  \n",
       "1                                      Japantown  \n",
       "2                              Market at Sansome  \n",
       "3  Temporary Transbay Terminal (Howard at Beale)  \n",
       "4                             Powell Street BART  \n",
       "5                     Palo Alto Caltrain Station  \n",
       "6                                  Park at Olive  \n",
       "7                               Davis at Jackson  \n",
       "8              San Jose Diridon Caltrain Station  \n",
       "9                Grant Avenue at Columbus Avenue  "
      ]
     },
     "execution_count": 31,
     "metadata": {},
     "output_type": "execute_result"
    }
   ],
   "source": [
    "query = \"\"\"\n",
    "        SELECT\n",
    "            DISTINCT bike_number,\n",
    "            FIRST_VALUE(start_station_name) \n",
    "                OVER(\n",
    "                    PARTITION BY bike_number\n",
    "                    ORDER BY start_date\n",
    "                    ROWS BETWEEN UNBOUNDED PRECEDING AND UNBOUNDED FOLLOWING\n",
    "                    ) AS first_station,\n",
    "            LAST_VALUE(end_station_name)\n",
    "                OVER(\n",
    "                    PARTITION BY bike_number\n",
    "                    ORDER BY start_date\n",
    "                    ROWS BETWEEN UNBOUNDED PRECEDING AND UNBOUNDED FOLLOWING\n",
    "                    ) AS last_station\n",
    "            FROM\n",
    "                `bigquery-public-data.san_francisco_bikeshare.bikeshare_trips`\n",
    "            WHERE\n",
    "                DATE(start_date) = '2016-03-07'\n",
    "        \"\"\"\n",
    "\n",
    "station_tracking_result = client.query(query).result().to_dataframe()\n",
    "station_tracking_result.head(10)"
   ]
  },
  {
   "cell_type": "markdown",
   "metadata": {},
   "source": [
    "#### To end, let's do one last query, looking at bike/dock availability by hour at a station\n",
    "- For this task, I will be using the `bikeshare_status` table under the `san_francisco` dataset\n",
    "- The `bikeshare_status` table covers station status data roughly every 2 minutes from 8/29/2013 to 8/31/2016, roughly every 2 minutes\n",
    "- For this example, I will use data from 8/23/2016 (Tuesday)"
   ]
  },
  {
   "cell_type": "code",
   "execution_count": 32,
   "metadata": {},
   "outputs": [
    {
     "data": {
      "text/html": [
       "<div>\n",
       "<style scoped>\n",
       "    .dataframe tbody tr th:only-of-type {\n",
       "        vertical-align: middle;\n",
       "    }\n",
       "\n",
       "    .dataframe tbody tr th {\n",
       "        vertical-align: top;\n",
       "    }\n",
       "\n",
       "    .dataframe thead th {\n",
       "        text-align: right;\n",
       "    }\n",
       "</style>\n",
       "<table border=\"1\" class=\"dataframe\">\n",
       "  <thead>\n",
       "    <tr style=\"text-align: right;\">\n",
       "      <th></th>\n",
       "      <th>hour_of_day</th>\n",
       "      <th>avg_bikes</th>\n",
       "      <th>avg_docks</th>\n",
       "    </tr>\n",
       "  </thead>\n",
       "  <tbody>\n",
       "    <tr>\n",
       "      <th>0</th>\n",
       "      <td>0</td>\n",
       "      <td>10.0</td>\n",
       "      <td>9.0</td>\n",
       "    </tr>\n",
       "    <tr>\n",
       "      <th>1</th>\n",
       "      <td>1</td>\n",
       "      <td>10.0</td>\n",
       "      <td>9.0</td>\n",
       "    </tr>\n",
       "    <tr>\n",
       "      <th>2</th>\n",
       "      <td>2</td>\n",
       "      <td>10.0</td>\n",
       "      <td>9.0</td>\n",
       "    </tr>\n",
       "    <tr>\n",
       "      <th>3</th>\n",
       "      <td>3</td>\n",
       "      <td>10.0</td>\n",
       "      <td>9.0</td>\n",
       "    </tr>\n",
       "    <tr>\n",
       "      <th>4</th>\n",
       "      <td>4</td>\n",
       "      <td>10.0</td>\n",
       "      <td>9.0</td>\n",
       "    </tr>\n",
       "  </tbody>\n",
       "</table>\n",
       "</div>"
      ],
      "text/plain": [
       "   hour_of_day  avg_bikes  avg_docks\n",
       "0            0       10.0        9.0\n",
       "1            1       10.0        9.0\n",
       "2            2       10.0        9.0\n",
       "3            3       10.0        9.0\n",
       "4            4       10.0        9.0"
      ]
     },
     "execution_count": 32,
     "metadata": {},
     "output_type": "execute_result"
    }
   ],
   "source": [
    "station_info_query = \"\"\"\n",
    "                    SELECT\n",
    "                      EXTRACT(HOUR FROM status.time) AS hour_of_day,\n",
    "                      ROUND(AVG(status.bikes_available)) AS avg_bikes,\n",
    "                      ROUND(AVG(status.docks_available)) AS avg_docks\n",
    "                    FROM\n",
    "                      `bigquery-public-data.san_francisco.bikeshare_status` status\n",
    "                      JOIN `bigquery-public-data.san_francisco.bikeshare_stations` station\n",
    "                      ON status.station_id = station.station_id\n",
    "                    WHERE\n",
    "                      station.name = 'Powell Street BART'\n",
    "                      AND DATE(status.time) = '2016-08-23'\n",
    "                    GROUP BY\n",
    "                      hour_of_day\n",
    "                    ORDER BY\n",
    "                      hour_of_day\n",
    "                    \"\"\"\n",
    "\n",
    "station_info = client.query(station_info_query).result().to_dataframe()\n",
    "station_info.head(5)"
   ]
  },
  {
   "cell_type": "code",
   "execution_count": 33,
   "metadata": {},
   "outputs": [
    {
     "data": {
      "image/png": "[encoded data removed]",
      "text/plain": [
       "<matplotlib.figure.Figure at 0x1a23726f28>"
      ]
     },
     "metadata": {},
     "output_type": "display_data"
    }
   ],
   "source": [
    "ax = station_info.set_index('hour_of_day')[['avg_bikes', 'avg_docks']].plot(\n",
    "    kind='line', \n",
    "    rot=0, \n",
    "    figsize=(14,6), \n",
    "    color=['navy', 'orangered']\n",
    ")\n",
    "\n",
    "ax.set_title('Station Status by Hour at Powell BART Station', fontsize=14)\n",
    "ax.set_ylabel('Average Number of Bikes/Docks')\n",
    "ax.set_xlabel('\\n Hour of Day')\n",
    "\n",
    "for tick in ax.yaxis.get_major_ticks():\n",
    "    tick.label.set_fontsize(12)\n",
    "for tick in ax.xaxis.get_major_ticks():\n",
    "    tick.label.set_fontsize(12)\n",
    "pass"
   ]
  },
  {
   "cell_type": "markdown",
   "metadata": {},
   "source": [
    "# Part 2 - BigQuery ML (BQML)\n",
    "<div class=\"alert alert-block alert-info\">\n",
    "<b>Objective:</b> to explore BQML and build a model to predict how many riders, on average, will start from each station during each hour, capturing patterns in seasonality, time of day, and day of week (since I'm using only the `san_francisco_bikeshare.bikeshare_trips` table). Let's predict the number of rides based on the station where the trip starts and the hour when the trip started. Official BQML documentation can be accessed [here](https://cloud.google.com/bigquery-ml/docs/bigqueryml-web-ui-start).\n",
    "</div>"
   ]
  },
  {
   "cell_type": "markdown",
   "metadata": {},
   "source": [
    "- BQML enables users to create, train, and serve machine learning models in BigQuery using SQL queries. This eliminates the needs for data movement and make it easier for SQL practitioners to build models using existing tools.\n",
    "- Models currently supported by BQML include lingear regression, logistic regression, K-means, and Tensorflow (serving only). "
   ]
  },
  {
   "cell_type": "markdown",
   "metadata": {},
   "source": [
    "### Connect to a project\n",
    "- Here is where you enter your project name on Google Cloud\n",
    "- After connecting to a project, you then create a dataset "
   ]
  },
  {
   "cell_type": "code",
   "execution_count": 35,
   "metadata": {},
   "outputs": [],
   "source": [
    "PROJECT_ID = 'vital-charger-240201'\n",
    "from google.cloud import bigquery\n",
    "\n",
    "client = bigquery.Client(project=PROJECT_ID, location=\"US\")\n",
    "dataset = client.create_dataset('model_dataset', exists_ok=True)\n",
    "\n",
    "from google.cloud.bigquery import magics"
   ]
  },
  {
   "cell_type": "markdown",
   "metadata": {},
   "source": [
    "### Training data\n",
    "Since there is consistent data from **8/29/2013 to 8/30/2016**, I will use data prior to **1/1/2016** to train the model, and use data after 1/1/2016 as testing data."
   ]
  },
  {
   "cell_type": "markdown",
   "metadata": {},
   "source": [
    "Let's first take a look at the training data"
   ]
  },
  {
   "cell_type": "code",
   "execution_count": 36,
   "metadata": {},
   "outputs": [
    {
     "data": {
      "text/html": [
       "<div>\n",
       "<style scoped>\n",
       "    .dataframe tbody tr th:only-of-type {\n",
       "        vertical-align: middle;\n",
       "    }\n",
       "\n",
       "    .dataframe tbody tr th {\n",
       "        vertical-align: top;\n",
       "    }\n",
       "\n",
       "    .dataframe thead th {\n",
       "        text-align: right;\n",
       "    }\n",
       "</style>\n",
       "<table border=\"1\" class=\"dataframe\">\n",
       "  <thead>\n",
       "    <tr style=\"text-align: right;\">\n",
       "      <th></th>\n",
       "      <th>start_station_name</th>\n",
       "      <th>start_hour</th>\n",
       "      <th>num_trips</th>\n",
       "    </tr>\n",
       "  </thead>\n",
       "  <tbody>\n",
       "    <tr>\n",
       "      <th>0</th>\n",
       "      <td>San Francisco Caltrain (Townsend at 4th)</td>\n",
       "      <td>2015-01-28 08:00:00+00:00</td>\n",
       "      <td>52</td>\n",
       "    </tr>\n",
       "    <tr>\n",
       "      <th>1</th>\n",
       "      <td>San Francisco Caltrain 2 (330 Townsend)</td>\n",
       "      <td>2015-10-15 08:00:00+00:00</td>\n",
       "      <td>50</td>\n",
       "    </tr>\n",
       "    <tr>\n",
       "      <th>2</th>\n",
       "      <td>San Francisco Caltrain 2 (330 Townsend)</td>\n",
       "      <td>2015-10-08 08:00:00+00:00</td>\n",
       "      <td>48</td>\n",
       "    </tr>\n",
       "    <tr>\n",
       "      <th>3</th>\n",
       "      <td>San Francisco Caltrain 2 (330 Townsend)</td>\n",
       "      <td>2015-09-02 08:00:00+00:00</td>\n",
       "      <td>46</td>\n",
       "    </tr>\n",
       "    <tr>\n",
       "      <th>4</th>\n",
       "      <td>San Francisco Caltrain (Townsend at 4th)</td>\n",
       "      <td>2015-01-07 08:00:00+00:00</td>\n",
       "      <td>45</td>\n",
       "    </tr>\n",
       "  </tbody>\n",
       "</table>\n",
       "</div>"
      ],
      "text/plain": [
       "                         start_station_name                start_hour  \\\n",
       "0  San Francisco Caltrain (Townsend at 4th) 2015-01-28 08:00:00+00:00   \n",
       "1   San Francisco Caltrain 2 (330 Townsend) 2015-10-15 08:00:00+00:00   \n",
       "2   San Francisco Caltrain 2 (330 Townsend) 2015-10-08 08:00:00+00:00   \n",
       "3   San Francisco Caltrain 2 (330 Townsend) 2015-09-02 08:00:00+00:00   \n",
       "4  San Francisco Caltrain (Townsend at 4th) 2015-01-07 08:00:00+00:00   \n",
       "\n",
       "   num_trips  \n",
       "0         52  \n",
       "1         50  \n",
       "2         48  \n",
       "3         46  \n",
       "4         45  "
      ]
     },
     "execution_count": 36,
     "metadata": {},
     "output_type": "execute_result"
    }
   ],
   "source": [
    "%%bigquery\n",
    "SELECT\n",
    "    start_station_name,\n",
    "    TIMESTAMP_TRUNC(start_date, HOUR) AS start_hour,\n",
    "    COUNT(*) AS num_trips\n",
    "FROM\n",
    "    `bigquery-public-data.san_francisco_bikeshare.bikeshare_trips`\n",
    "WHERE\n",
    "    start_date < '2016-01-01'\n",
    "GROUP BY\n",
    "    1, 2\n",
    "ORDER BY\n",
    "    num_trips DESC\n",
    "LIMIT 5"
   ]
  },
  {
   "cell_type": "markdown",
   "metadata": {},
   "source": [
    "### Is there any anomalies? \n",
    " - Let's look at average daily trips per station by year"
   ]
  },
  {
   "cell_type": "code",
   "execution_count": 37,
   "metadata": {},
   "outputs": [
    {
     "data": {
      "text/html": [
       "<div>\n",
       "<style scoped>\n",
       "    .dataframe tbody tr th:only-of-type {\n",
       "        vertical-align: middle;\n",
       "    }\n",
       "\n",
       "    .dataframe tbody tr th {\n",
       "        vertical-align: top;\n",
       "    }\n",
       "\n",
       "    .dataframe thead th {\n",
       "        text-align: right;\n",
       "    }\n",
       "</style>\n",
       "<table border=\"1\" class=\"dataframe\">\n",
       "  <thead>\n",
       "    <tr style=\"text-align: right;\">\n",
       "      <th></th>\n",
       "      <th>daily_rides_per_station</th>\n",
       "      <th>year</th>\n",
       "    </tr>\n",
       "  </thead>\n",
       "  <tbody>\n",
       "    <tr>\n",
       "      <th>0</th>\n",
       "      <td>12.866044</td>\n",
       "      <td>2013</td>\n",
       "    </tr>\n",
       "    <tr>\n",
       "      <th>1</th>\n",
       "      <td>12.759052</td>\n",
       "      <td>2014</td>\n",
       "    </tr>\n",
       "    <tr>\n",
       "      <th>2</th>\n",
       "      <td>13.144572</td>\n",
       "      <td>2015</td>\n",
       "    </tr>\n",
       "    <tr>\n",
       "      <th>3</th>\n",
       "      <td>12.129674</td>\n",
       "      <td>2016</td>\n",
       "    </tr>\n",
       "    <tr>\n",
       "      <th>4</th>\n",
       "      <td>12.010358</td>\n",
       "      <td>2017</td>\n",
       "    </tr>\n",
       "    <tr>\n",
       "      <th>5</th>\n",
       "      <td>13.233681</td>\n",
       "      <td>2018</td>\n",
       "    </tr>\n",
       "  </tbody>\n",
       "</table>\n",
       "</div>"
      ],
      "text/plain": [
       "   daily_rides_per_station  year\n",
       "0                12.866044  2013\n",
       "1                12.759052  2014\n",
       "2                13.144572  2015\n",
       "3                12.129674  2016\n",
       "4                12.010358  2017\n",
       "5                13.233681  2018"
      ]
     },
     "execution_count": 37,
     "metadata": {},
     "output_type": "execute_result"
    }
   ],
   "source": [
    "%%bigquery\n",
    "WITH daily_rides AS (\n",
    "    SELECT COUNT(DISTINCT trip_id) AS num_rides,\n",
    "           start_station_name,\n",
    "           EXTRACT(DAYOFYEAR from start_date) AS doy,\n",
    "           EXTRACT(YEAR from start_date) AS year\n",
    "    FROM `bigquery-public-data.san_francisco_bikeshare.bikeshare_trips`\n",
    "    GROUP BY start_station_name, doy, year\n",
    "    ORDER BY year\n",
    "), \n",
    "station_averages AS (\n",
    "    SELECT avg(num_rides) AS avg_riders, start_station_name, year\n",
    "    FROM daily_rides\n",
    "    GROUP BY start_station_name, year)\n",
    "\n",
    "SELECT avg(avg_riders) AS daily_rides_per_station, year\n",
    "FROM station_averages\n",
    "GROUP BY year\n",
    "ORDER BY year"
   ]
  },
  {
   "cell_type": "markdown",
   "metadata": {},
   "source": [
    "### Create the model\n",
    "- A linear regression model is used\n",
    "- Dependent variable is labeled \"label\" in the query\n",
    "- As can be seen in the [documentation](https://cloud.google.com/bigquery-ml/docs/reference/standard-sql/bigqueryml-syntax-create), BigQuery ML provides many options to tweak the model in the `CREATE MODEL` statement. I placed most arguments on autopilot during this exploration so that BigQuery ML can make the best decison for me. This is because I'm not yet able to reason through the model's architecture. When I get a better idea of how training works on the back-end, I will start tweaking them on my future projects."
   ]
  },
  {
   "cell_type": "code",
   "execution_count": 38,
   "metadata": {},
   "outputs": [
    {
     "data": {
      "text/html": [
       "<div>\n",
       "<style scoped>\n",
       "    .dataframe tbody tr th:only-of-type {\n",
       "        vertical-align: middle;\n",
       "    }\n",
       "\n",
       "    .dataframe tbody tr th {\n",
       "        vertical-align: top;\n",
       "    }\n",
       "\n",
       "    .dataframe thead th {\n",
       "        text-align: right;\n",
       "    }\n",
       "</style>\n",
       "<table border=\"1\" class=\"dataframe\">\n",
       "  <thead>\n",
       "    <tr style=\"text-align: right;\">\n",
       "      <th></th>\n",
       "    </tr>\n",
       "  </thead>\n",
       "  <tbody>\n",
       "  </tbody>\n",
       "</table>\n",
       "</div>"
      ],
      "text/plain": [
       "Empty DataFrame\n",
       "Columns: []\n",
       "Index: []"
      ]
     },
     "execution_count": 38,
     "metadata": {},
     "output_type": "execute_result"
    }
   ],
   "source": [
    "%%bigquery\n",
    "CREATE OR REPLACE MODEL `model_dataset.bqml_sfbikeshare`\n",
    "OPTIONS(model_type='linear_reg', OPTIMIZE_STRATEGY='batch_gradient_descent') AS\n",
    "    SELECT\n",
    "        COUNT(DISTINCT trip_id) AS label,\n",
    "        IFNULL(start_station_name,\"\") AS start_station_name,\n",
    "        TIMESTAMP_TRUNC(start_date, HOUR) AS start_hour\n",
    "    FROM\n",
    "        `bigquery-public-data.san_francisco_bikeshare.bikeshare_trips`\n",
    "    WHERE\n",
    "        start_date < '2016-01-01'\n",
    "    GROUP BY\n",
    "        2, 3"
   ]
  },
  {
   "cell_type": "markdown",
   "metadata": {},
   "source": [
    "### Evaluate the model\n",
    "Let's evaluate our model using testing data from **1/1/2016 to 6/28/2016**"
   ]
  },
  {
   "cell_type": "code",
   "execution_count": 40,
   "metadata": {},
   "outputs": [
    {
     "data": {
      "text/html": [
       "<div>\n",
       "<style scoped>\n",
       "    .dataframe tbody tr th:only-of-type {\n",
       "        vertical-align: middle;\n",
       "    }\n",
       "\n",
       "    .dataframe tbody tr th {\n",
       "        vertical-align: top;\n",
       "    }\n",
       "\n",
       "    .dataframe thead th {\n",
       "        text-align: right;\n",
       "    }\n",
       "</style>\n",
       "<table border=\"1\" class=\"dataframe\">\n",
       "  <thead>\n",
       "    <tr style=\"text-align: right;\">\n",
       "      <th></th>\n",
       "      <th>mean_absolute_error</th>\n",
       "      <th>mean_squared_error</th>\n",
       "      <th>mean_squared_log_error</th>\n",
       "      <th>median_absolute_error</th>\n",
       "      <th>r2_score</th>\n",
       "      <th>explained_variance</th>\n",
       "    </tr>\n",
       "  </thead>\n",
       "  <tbody>\n",
       "    <tr>\n",
       "      <th>0</th>\n",
       "      <td>1.353931</td>\n",
       "      <td>6.071242</td>\n",
       "      <td>0.194471</td>\n",
       "      <td>0.852269</td>\n",
       "      <td>0.267032</td>\n",
       "      <td>0.2682</td>\n",
       "    </tr>\n",
       "  </tbody>\n",
       "</table>\n",
       "</div>"
      ],
      "text/plain": [
       "   mean_absolute_error  mean_squared_error  mean_squared_log_error  \\\n",
       "0             1.353931            6.071242                0.194471   \n",
       "\n",
       "   median_absolute_error  r2_score  explained_variance  \n",
       "0               0.852269  0.267032              0.2682  "
      ]
     },
     "execution_count": 40,
     "metadata": {},
     "output_type": "execute_result"
    }
   ],
   "source": [
    "%%bigquery\n",
    "SELECT\n",
    "  *\n",
    "FROM ML.EVALUATE(MODEL `model_dataset.bqml_sfbikeshare`, (\n",
    "    SELECT\n",
    "        start_station_name,\n",
    "        TIMESTAMP_TRUNC(start_date, HOUR) AS start_hour,\n",
    "        COUNT(DISTINCT trip_id) AS label\n",
    "    FROM\n",
    "        `bigquery-public-data.san_francisco_bikeshare.bikeshare_trips`\n",
    "    WHERE\n",
    "        start_date >= '2016-01-01'\n",
    "        AND start_date < '2016-06-28'\n",
    "    GROUP BY\n",
    "        1, 2))"
   ]
  },
  {
   "cell_type": "markdown",
   "metadata": {},
   "source": [
    "### Predictions"
   ]
  },
  {
   "cell_type": "markdown",
   "metadata": {},
   "source": [
    "#### Overall trips per station per hour"
   ]
  },
  {
   "cell_type": "code",
   "execution_count": 41,
   "metadata": {},
   "outputs": [
    {
     "data": {
      "text/html": [
       "<div>\n",
       "<style scoped>\n",
       "    .dataframe tbody tr th:only-of-type {\n",
       "        vertical-align: middle;\n",
       "    }\n",
       "\n",
       "    .dataframe tbody tr th {\n",
       "        vertical-align: top;\n",
       "    }\n",
       "\n",
       "    .dataframe thead th {\n",
       "        text-align: right;\n",
       "    }\n",
       "</style>\n",
       "<table border=\"1\" class=\"dataframe\">\n",
       "  <thead>\n",
       "    <tr style=\"text-align: right;\">\n",
       "      <th></th>\n",
       "      <th>predicted_avg_trips</th>\n",
       "      <th>actual_avg_trips</th>\n",
       "    </tr>\n",
       "  </thead>\n",
       "  <tbody>\n",
       "    <tr>\n",
       "      <th>0</th>\n",
       "      <td>2.357306</td>\n",
       "      <td>2.443248</td>\n",
       "    </tr>\n",
       "  </tbody>\n",
       "</table>\n",
       "</div>"
      ],
      "text/plain": [
       "   predicted_avg_trips  actual_avg_trips\n",
       "0             2.357306          2.443248"
      ]
     },
     "execution_count": 41,
     "metadata": {},
     "output_type": "execute_result"
    }
   ],
   "source": [
    "%%bigquery\n",
    "SELECT\n",
    "    AVG(ROUND(predicted_label)) AS predicted_avg_trips,\n",
    "    AVG(label) AS actual_avg_trips\n",
    "FROM\n",
    "    ML.PREDICT(MODEL `model_dataset.bqml_sfbikeshare`, (\n",
    "    SELECT \n",
    "        COUNT(bike_number) AS label,\n",
    "        start_station_name,\n",
    "        TIMESTAMP_TRUNC(start_date, HOUR) AS start_hour\n",
    "    FROM\n",
    "        `bigquery-public-data.san_francisco_bikeshare.bikeshare_trips`\n",
    "    WHERE\n",
    "        start_date >= '2016-01-01'\n",
    "        AND start_date < '2016-06-28'\n",
    "    GROUP BY\n",
    "        start_station_name, start_hour\n",
    "    ))"
   ]
  },
  {
   "cell_type": "markdown",
   "metadata": {},
   "source": [
    "#### A particular station - South Van Ness at Market"
   ]
  },
  {
   "cell_type": "code",
   "execution_count": 42,
   "metadata": {},
   "outputs": [
    {
     "data": {
      "text/html": [
       "<div>\n",
       "<style scoped>\n",
       "    .dataframe tbody tr th:only-of-type {\n",
       "        vertical-align: middle;\n",
       "    }\n",
       "\n",
       "    .dataframe tbody tr th {\n",
       "        vertical-align: top;\n",
       "    }\n",
       "\n",
       "    .dataframe thead th {\n",
       "        text-align: right;\n",
       "    }\n",
       "</style>\n",
       "<table border=\"1\" class=\"dataframe\">\n",
       "  <thead>\n",
       "    <tr style=\"text-align: right;\">\n",
       "      <th></th>\n",
       "      <th>predicted_avg_trips</th>\n",
       "      <th>actual_avg_trips</th>\n",
       "    </tr>\n",
       "  </thead>\n",
       "  <tbody>\n",
       "    <tr>\n",
       "      <th>0</th>\n",
       "      <td>2.105563</td>\n",
       "      <td>1.907989</td>\n",
       "    </tr>\n",
       "  </tbody>\n",
       "</table>\n",
       "</div>"
      ],
      "text/plain": [
       "   predicted_avg_trips  actual_avg_trips\n",
       "0             2.105563          1.907989"
      ]
     },
     "execution_count": 42,
     "metadata": {},
     "output_type": "execute_result"
    }
   ],
   "source": [
    "%%bigquery\n",
    "SELECT\n",
    "    AVG(ROUND(predicted_label)) AS predicted_avg_trips,\n",
    "    AVG(label) AS actual_avg_trips\n",
    "FROM\n",
    "    ML.PREDICT(MODEL `model_dataset.bqml_sfbikeshare`, (\n",
    "    SELECT \n",
    "        COUNT(bike_number) AS label,\n",
    "        start_station_name,\n",
    "        TIMESTAMP_TRUNC(start_date, HOUR) AS start_hour\n",
    "    FROM\n",
    "        `bigquery-public-data.san_francisco_bikeshare.bikeshare_trips`\n",
    "    WHERE\n",
    "        start_date >= '2016-01-01'\n",
    "        AND start_date < '2016-06-28'\n",
    "        AND start_station_name = 'South Van Ness at Market'\n",
    "    GROUP BY\n",
    "        start_station_name, start_hour\n",
    "    ))"
   ]
  },
  {
   "cell_type": "markdown",
   "metadata": {},
   "source": [
    "#### A particular station & hour: South Van Ness at Market @ 8am"
   ]
  },
  {
   "cell_type": "code",
   "execution_count": 43,
   "metadata": {},
   "outputs": [
    {
     "data": {
      "text/html": [
       "<div>\n",
       "<style scoped>\n",
       "    .dataframe tbody tr th:only-of-type {\n",
       "        vertical-align: middle;\n",
       "    }\n",
       "\n",
       "    .dataframe tbody tr th {\n",
       "        vertical-align: top;\n",
       "    }\n",
       "\n",
       "    .dataframe thead th {\n",
       "        text-align: right;\n",
       "    }\n",
       "</style>\n",
       "<table border=\"1\" class=\"dataframe\">\n",
       "  <thead>\n",
       "    <tr style=\"text-align: right;\">\n",
       "      <th></th>\n",
       "      <th>predicted_avg_trips</th>\n",
       "      <th>actual_avg_trips</th>\n",
       "    </tr>\n",
       "  </thead>\n",
       "  <tbody>\n",
       "    <tr>\n",
       "      <th>0</th>\n",
       "      <td>3.82963</td>\n",
       "      <td>3.955556</td>\n",
       "    </tr>\n",
       "  </tbody>\n",
       "</table>\n",
       "</div>"
      ],
      "text/plain": [
       "   predicted_avg_trips  actual_avg_trips\n",
       "0              3.82963          3.955556"
      ]
     },
     "execution_count": 43,
     "metadata": {},
     "output_type": "execute_result"
    }
   ],
   "source": [
    "%%bigquery\n",
    "SELECT\n",
    "    AVG(ROUND(predicted_label)) AS predicted_avg_trips,\n",
    "    AVG(label) AS actual_avg_trips\n",
    "FROM\n",
    "    ML.PREDICT(MODEL `model_dataset.bqml_sfbikeshare`, (\n",
    "    SELECT \n",
    "        COUNT(bike_number) AS label,\n",
    "        start_station_name,\n",
    "        TIMESTAMP_TRUNC(start_date, HOUR) AS start_hour\n",
    "    FROM\n",
    "        `bigquery-public-data.san_francisco_bikeshare.bikeshare_trips`\n",
    "    WHERE\n",
    "        start_date >= '2016-01-01'\n",
    "        AND start_date < '2016-06-28'\n",
    "        AND start_station_name = 'South Van Ness at Market'\n",
    "        AND EXTRACT(HOUR FROM start_date) = 8\n",
    "    GROUP BY\n",
    "        start_station_name, start_hour\n",
    "    ))"
   ]
  },
  {
   "cell_type": "markdown",
   "metadata": {},
   "source": [
    "# Closing"
   ]
  },
  {
   "cell_type": "markdown",
   "metadata": {},
   "source": [
    "Fun, isn't it? Google Bigquery is a great place to explore publc datasets and practice data analytics skills. It enables quering massive datasets with the processing power of Google's infrastructure, without any up-front hardware or software investments. Better yet, there is nothing stopping you from loading even more by joining different datasets together (taxi/bikeshare trips with weather data; stackoverflow questions data with github repo contents, etc), and yes, the GitHub repo data is also on BigQuery (currently over 2TB). \n",
    "\n",
    "BigQuery ML makes machine learning more accessible for more audiences by abstracting away many of the highly mathematical aspects into simple SQL queries. Although shouldn't yet be compared to full-blown machine learning stacks, BigQuery ML enables SQL practitioners to create, eveluate, and serve models using existing tools. I can't wait for the Applied Machine Learning course to kick off in January 2020 at my MIDS program at UC Berkely. One day, I will be able to reason through the architecture behind machine learning and apply the knowledge to powerful use cases. \n",
    "\n",
    "With 1TB/month data processing at no cost (and $5/TB afterwards), what would you ask BigQuery? Immerse yourself in the amazing world of open data and [start querying](https://cloud.google.com/bigquery/public-data/) today!:)"
   ]
  }
 ],
 "metadata": {
  "kernelspec": {
   "display_name": "Python 3",
   "language": "python",
   "name": "python3"
  },
  "language_info": {
   "codemirror_mode": {
    "name": "ipython",
    "version": 3
   },
   "file_extension": ".py",
   "mimetype": "text/x-python",
   "name": "python",
   "nbconvert_exporter": "python",
   "pygments_lexer": "ipython3",
   "version": "3.7.3"
  }
 },
 "nbformat": 4,
 "nbformat_minor": 2
}
